{
 "cells": [
  {
   "cell_type": "markdown",
   "metadata": {},
   "source": [
    "# Introduction and Getting Set Up\n",
    "\n",
    "This first notebook will introdouce you to Jupyter notebooks and Python, a computing language.  We will be using these in addition to taking notes and traditional things you have done in a math class to introduce calculus topics, solve calculus problems, and perhaps see how using these tools makes solving traditional mathematics problems easier.  \n",
    "\n",
    "We will download the appropriate tools we need, set up an account, and then practice a few mathematics operations you might need. \n",
    "\n",
    "# Download \n",
    "Download and install the most recent version of Jupyter notebook through Anaconda by clicking here https://www.anaconda.com/download/#macos\n",
    "Choose the appropriate download based on the computer you have.  Once you have it downloaded and installed correctly your screen should look like this. \n",
    "\n",
    "![](brielleimages/anacondapic.png)\n"
   ]
  },
  {
   "cell_type": "markdown",
   "metadata": {
    "collapsed": true
   },
   "source": [
    "After this is installed, click on the Jupyter notebook icon.  A window should open that looks similar to this and lists files. \n",
    "\n",
    "![](brielleimages/jup.png)\n",
    "\n",
    "Let's make a new folder on our desktop called businesscalc_notebooks.  \n",
    "Open this folder and let's make a notebook.  Click Python 3 notebook. **This is how you would open a blank notebook**.\n",
    "\n",
    "I am fine with you simply adding to the bottom of this notebook. \n",
    "We can technically work on the on google colab (where I had you open this from) but it might be better if you worked on it on your actual computer. Sometimes this is faster.  \n",
    "To do so when you open the tab from the link, click file, then go down to **download .ipynb**.  This will download this file, then move it to the folder of all of our jupyter notebooks that we just created.  We can then refresh the jupyter notebook page we opened and click desktop, then the folder, and then this notebook we just downloaded. \n",
    "\n",
    "# Markdown\n",
    "In this new notebook, you can click the toolbar at the top and go between cell types. For just typing we will want to use **markdown** \n",
    "\n",
    "![](brielleimages/markdown.png)\n",
    "\n",
    "## Typing in markdown\n",
    "When we want to type in markdown. \n",
    "\n",
    "If you need bold font type two asterisks the word(s) you want and then two more asterisks.  If you need italics this is done by asterisk words and then another asterisk at the end.  \n",
    "\n",
    "If you need headings use the pound symbol (in your world maybe you call this a hastag symbol haha)\n",
    "These are done with \n",
    "![](brielleimages/headers.png)\n",
    "\n",
    "## Images in markdown \n",
    "For images you can add them to your notebook with some simple syntax.  \n",
    "Two important things for images. \n",
    "You should make a folder in the same directory as your notebooks named images and put all the images you are using in there. \n",
    "\n",
    "You should name you files without spaces.  for example don't use something like \"dog pic.png\" instead use \"dog_pic.png\"\n",
    "\n",
    "The syntax is \n",
    "![](brielleimages/imagesyntax.png)\n",
    "\n",
    "You can also change the format of the picture if needed with commands such as controls over the height and width of the image displayed. You can use some additional controls including the center and figure command to add a caption and center the figure on the page. This would be as follows:\n",
    "![](brielleimages/picformat.png)\n",
    "Doing so with the picture of my dogs would produce this\n",
    "\n",
    "<center>\n",
    "<figure>\n",
    "<img src = \"brielleimages/dog_pic.png\" height = 100 width = 200 >\n",
    "<figcaption> This is a picture of my dogs, Tips and Reese </figcaption>\n",
    "</figure>\n",
    "</center>\n",
    "\n",
    "\n",
    "\n",
    "# Code Cells \n",
    "\n",
    "Let's now use Python in the Jupyter notebook to do some simple mathematics operations. \n",
    "\n",
    "![](brielleimages/operations.png)\n",
    "\n",
    "To execute a cell you can be in the cell and press the play button at the top on the notebook or better is pressing shift enter in the cell. \n"
   ]
  },
  {
   "cell_type": "code",
   "execution_count": 49,
   "metadata": {},
   "outputs": [
    {
     "data": {
      "text/plain": [
       "9"
      ]
     },
     "execution_count": 49,
     "metadata": {},
     "output_type": "execute_result"
    }
   ],
   "source": [
    "4+5"
   ]
  },
  {
   "cell_type": "code",
   "execution_count": 50,
   "metadata": {},
   "outputs": [
    {
     "data": {
      "text/plain": [
       "6"
      ]
     },
     "execution_count": 50,
     "metadata": {},
     "output_type": "execute_result"
    }
   ],
   "source": [
    "3*2"
   ]
  },
  {
   "cell_type": "code",
   "execution_count": 51,
   "metadata": {},
   "outputs": [
    {
     "data": {
      "text/plain": [
       "0.5"
      ]
     },
     "execution_count": 51,
     "metadata": {},
     "output_type": "execute_result"
    }
   ],
   "source": [
    "2/4\n"
   ]
  },
  {
   "cell_type": "code",
   "execution_count": 52,
   "metadata": {},
   "outputs": [
    {
     "data": {
      "text/plain": [
       "9"
      ]
     },
     "execution_count": 52,
     "metadata": {},
     "output_type": "execute_result"
    }
   ],
   "source": [
    "3**2"
   ]
  },
  {
   "cell_type": "code",
   "execution_count": 53,
   "metadata": {},
   "outputs": [
    {
     "data": {
      "text/plain": [
       "-19"
      ]
     },
     "execution_count": 53,
     "metadata": {},
     "output_type": "execute_result"
    }
   ],
   "source": [
    "2+3-4*(6-2)-2**3"
   ]
  },
  {
   "cell_type": "markdown",
   "metadata": {},
   "source": [
    "Did that do the correct order of operations?  You check and see."
   ]
  },
  {
   "cell_type": "markdown",
   "metadata": {},
   "source": [
    "## Types \n",
    "Python understands different forms of information.  The type depends on whether the info is a word (a string of symbols) or a number  or the nature of the number. Let's use the command type() to see what type the information is \n"
   ]
  },
  {
   "cell_type": "code",
   "execution_count": 54,
   "metadata": {},
   "outputs": [
    {
     "data": {
      "text/plain": [
       "(int, float, str)"
      ]
     },
     "execution_count": 54,
     "metadata": {},
     "output_type": "execute_result"
    }
   ],
   "source": [
    "type(2), type(2/3), type(\"brielle\")\n"
   ]
  },
  {
   "cell_type": "code",
   "execution_count": 55,
   "metadata": {
    "collapsed": true
   },
   "outputs": [],
   "source": [
    "x=6"
   ]
  },
  {
   "cell_type": "code",
   "execution_count": 56,
   "metadata": {},
   "outputs": [
    {
     "data": {
      "text/plain": [
       "int"
      ]
     },
     "execution_count": 56,
     "metadata": {},
     "output_type": "execute_result"
    }
   ],
   "source": [
    "type(x)"
   ]
  },
  {
   "cell_type": "code",
   "execution_count": 57,
   "metadata": {},
   "outputs": [
    {
     "data": {
      "text/plain": [
       "4.0"
      ]
     },
     "execution_count": 57,
     "metadata": {},
     "output_type": "execute_result"
    }
   ],
   "source": [
    "x*(2/3)"
   ]
  },
  {
   "cell_type": "markdown",
   "metadata": {},
   "source": [
    "## Other numbers\n",
    "\n",
    "Think about some numbers you know that wouldn't be easy for you to type in.  Like pi or values from trig functions you might know. For numbers such as these will will use something called the numpy library. We will need to import this library and do so on notebooks in the future.  We will see how this works below. \n"
   ]
  },
  {
   "cell_type": "code",
   "execution_count": 58,
   "metadata": {
    "collapsed": true
   },
   "outputs": [],
   "source": [
    "import numpy as np\n"
   ]
  },
  {
   "cell_type": "code",
   "execution_count": 59,
   "metadata": {},
   "outputs": [
    {
     "data": {
      "text/plain": [
       "3.141592653589793"
      ]
     },
     "execution_count": 59,
     "metadata": {},
     "output_type": "execute_result"
    }
   ],
   "source": [
    "np.pi"
   ]
  },
  {
   "cell_type": "markdown",
   "metadata": {},
   "source": [
    "# Lists\n",
    "Sometimes we will need to use an object in the form of a list. A list is an indexed list of objects, meaning that order matters.  For example 1, 2, 3 wouldn't be the same as 3, 1, 2. \n",
    "\n",
    "In Python lists begin by counting with zero.  The following image is a simple list.  Let's call it L1 and give it entries of np.pi, 22, \"Tips\", 7, \"soccer\", and then think about the indicies for each entry. \n"
   ]
  },
  {
   "cell_type": "code",
   "execution_count": 60,
   "metadata": {
    "collapsed": true
   },
   "outputs": [],
   "source": [
    "L1=[np.pi, 22, \"Tips\", 7, \"soccer\"]"
   ]
  },
  {
   "cell_type": "code",
   "execution_count": 61,
   "metadata": {},
   "outputs": [
    {
     "data": {
      "text/plain": [
       "list"
      ]
     },
     "execution_count": 61,
     "metadata": {},
     "output_type": "execute_result"
    }
   ],
   "source": [
    "type(L1)"
   ]
  },
  {
   "cell_type": "code",
   "execution_count": 62,
   "metadata": {},
   "outputs": [
    {
     "data": {
      "text/plain": [
       "[3.141592653589793, 22, 'Tips', 7, 'soccer']"
      ]
     },
     "execution_count": 62,
     "metadata": {},
     "output_type": "execute_result"
    }
   ],
   "source": [
    "L1"
   ]
  },
  {
   "cell_type": "code",
   "execution_count": 63,
   "metadata": {},
   "outputs": [
    {
     "data": {
      "text/plain": [
       "[22, 'Tips']"
      ]
     },
     "execution_count": 63,
     "metadata": {},
     "output_type": "execute_result"
    }
   ],
   "source": [
    "L1[1:3]"
   ]
  },
  {
   "cell_type": "code",
   "execution_count": 64,
   "metadata": {},
   "outputs": [
    {
     "data": {
      "text/plain": [
       "['Tips', 7, 'soccer']"
      ]
     },
     "execution_count": 64,
     "metadata": {},
     "output_type": "execute_result"
    }
   ],
   "source": [
    "L1[2:]"
   ]
  },
  {
   "cell_type": "code",
   "execution_count": 65,
   "metadata": {},
   "outputs": [
    {
     "data": {
      "text/plain": [
       "[3.141592653589793,\n",
       " 22,\n",
       " 'Tips',\n",
       " 7,\n",
       " 'soccer',\n",
       " 3.141592653589793,\n",
       " 22,\n",
       " 'Tips',\n",
       " 7,\n",
       " 'soccer',\n",
       " 3.141592653589793,\n",
       " 22,\n",
       " 'Tips',\n",
       " 7,\n",
       " 'soccer',\n",
       " 3.141592653589793,\n",
       " 22,\n",
       " 'Tips',\n",
       " 7,\n",
       " 'soccer']"
      ]
     },
     "execution_count": 65,
     "metadata": {},
     "output_type": "execute_result"
    }
   ],
   "source": [
    "L1*4"
   ]
  },
  {
   "cell_type": "code",
   "execution_count": 66,
   "metadata": {},
   "outputs": [
    {
     "data": {
      "text/plain": [
       "[3.141592653589793,\n",
       " 22,\n",
       " 'Tips',\n",
       " 7,\n",
       " 'soccer',\n",
       " 3.141592653589793,\n",
       " 22,\n",
       " 'Tips',\n",
       " 7,\n",
       " 'soccer']"
      ]
     },
     "execution_count": 66,
     "metadata": {},
     "output_type": "execute_result"
    }
   ],
   "source": [
    "L1+L1"
   ]
  },
  {
   "cell_type": "code",
   "execution_count": 67,
   "metadata": {
    "collapsed": true
   },
   "outputs": [],
   "source": [
    "L1.append(341)"
   ]
  },
  {
   "cell_type": "code",
   "execution_count": 68,
   "metadata": {},
   "outputs": [
    {
     "data": {
      "text/plain": [
       "[3.141592653589793, 22, 'Tips', 7, 'soccer', 341]"
      ]
     },
     "execution_count": 68,
     "metadata": {},
     "output_type": "execute_result"
    }
   ],
   "source": [
    "L1"
   ]
  },
  {
   "cell_type": "markdown",
   "metadata": {},
   "source": [
    "# Arrays\n",
    "Numpy is used to do some basical numerical operations but it can also generate lists of values.  We will need to use this to make domains of functions we will investigate.  The two functions that we will use are arange and linspace. To use them remember since they are in the numpy library we will need to use np. before them. \n",
    "We will type them with question marks to get a descritpion and examples. \n",
    "\n",
    "\n"
   ]
  },
  {
   "cell_type": "code",
   "execution_count": 69,
   "metadata": {
    "collapsed": true
   },
   "outputs": [],
   "source": [
    "np.arange?"
   ]
  },
  {
   "cell_type": "code",
   "execution_count": 70,
   "metadata": {
    "collapsed": true
   },
   "outputs": [],
   "source": [
    "np.linspace?"
   ]
  },
  {
   "cell_type": "code",
   "execution_count": 71,
   "metadata": {},
   "outputs": [
    {
     "data": {
      "text/plain": [
       "array([0, 1, 2, 3, 4, 5, 6, 7, 8, 9])"
      ]
     },
     "execution_count": 71,
     "metadata": {},
     "output_type": "execute_result"
    }
   ],
   "source": [
    "np.arange(0,10,1)"
   ]
  },
  {
   "cell_type": "code",
   "execution_count": 72,
   "metadata": {},
   "outputs": [
    {
     "data": {
      "text/plain": [
       "array([ 0. ,  0.5,  1. ,  1.5,  2. ,  2.5,  3. ,  3.5,  4. ,  4.5,  5. ,\n",
       "        5.5,  6. ,  6.5,  7. ,  7.5,  8. ,  8.5,  9. ,  9.5])"
      ]
     },
     "execution_count": 72,
     "metadata": {},
     "output_type": "execute_result"
    }
   ],
   "source": [
    "np.arange(0,10, 0.5)"
   ]
  },
  {
   "cell_type": "code",
   "execution_count": 73,
   "metadata": {},
   "outputs": [
    {
     "data": {
      "text/plain": [
       "array([  0.,  10.])"
      ]
     },
     "execution_count": 73,
     "metadata": {},
     "output_type": "execute_result"
    }
   ],
   "source": [
    "np.linspace(0,10,2)"
   ]
  },
  {
   "cell_type": "code",
   "execution_count": 74,
   "metadata": {},
   "outputs": [
    {
     "data": {
      "text/plain": [
       "array([  0.,   1.,   2.,   3.,   4.,   5.,   6.,   7.,   8.,   9.,  10.])"
      ]
     },
     "execution_count": 74,
     "metadata": {},
     "output_type": "execute_result"
    }
   ],
   "source": [
    "np.linspace(0,10,11)"
   ]
  },
  {
   "cell_type": "code",
   "execution_count": 75,
   "metadata": {},
   "outputs": [
    {
     "data": {
      "text/plain": [
       "array([   0.,    1.,    2.,    3.,    4.,    5.,    6.,    7.,    8.,\n",
       "          9.,   10.,   11.,   12.,   13.,   14.,   15.,   16.,   17.,\n",
       "         18.,   19.,   20.,   21.,   22.,   23.,   24.,   25.,   26.,\n",
       "         27.,   28.,   29.,   30.,   31.,   32.,   33.,   34.,   35.,\n",
       "         36.,   37.,   38.,   39.,   40.,   41.,   42.,   43.,   44.,\n",
       "         45.,   46.,   47.,   48.,   49.,   50.,   51.,   52.,   53.,\n",
       "         54.,   55.,   56.,   57.,   58.,   59.,   60.,   61.,   62.,\n",
       "         63.,   64.,   65.,   66.,   67.,   68.,   69.,   70.,   71.,\n",
       "         72.,   73.,   74.,   75.,   76.,   77.,   78.,   79.,   80.,\n",
       "         81.,   82.,   83.,   84.,   85.,   86.,   87.,   88.,   89.,\n",
       "         90.,   91.,   92.,   93.,   94.,   95.,   96.,   97.,   98.,\n",
       "         99.,  100.])"
      ]
     },
     "execution_count": 75,
     "metadata": {},
     "output_type": "execute_result"
    }
   ],
   "source": [
    "np.linspace(0,100,101)"
   ]
  },
  {
   "cell_type": "markdown",
   "metadata": {},
   "source": [
    "# Range \n",
    "The range() function can do something similar but instead of producing an array it generates the ability to count through a sequence of integers by a given step (change). \n",
    "The help on range is given as \n",
    "![](brielleimages/range.png)\n"
   ]
  },
  {
   "cell_type": "code",
   "execution_count": 76,
   "metadata": {},
   "outputs": [
    {
     "data": {
      "text/plain": [
       "range(0, 10)"
      ]
     },
     "execution_count": 76,
     "metadata": {},
     "output_type": "execute_result"
    }
   ],
   "source": [
    "range(10)"
   ]
  },
  {
   "cell_type": "markdown",
   "metadata": {},
   "source": [
    "# For Loops and Sequences\n",
    "A for loop defines a repeated series of operations to be carried out a finite number of times. For example, the following code demonstrates the repeated printing of members of range(5)."
   ]
  },
  {
   "cell_type": "code",
   "execution_count": 77,
   "metadata": {},
   "outputs": [
    {
     "name": "stdout",
     "output_type": "stream",
     "text": [
      "0\n",
      "1\n",
      "2\n",
      "3\n",
      "4\n"
     ]
    }
   ],
   "source": [
    "for i in range(5): \n",
    "    print(i)"
   ]
  },
  {
   "cell_type": "markdown",
   "metadata": {},
   "source": [
    "## Combining range, for, and append.\n",
    "Together, the for loop, the list, and the ability to add elements to lists with the append function allows us to express repeated operations easily. For example, suppose we want to form a sequence of integers. We can understand this as starting at 1 and adding 1 to each previous term to get the next. Symbolically, we would write this as:\n",
    "$$a_{i+1}=a_i+1$$\n",
    "\n",
    "In Python, we write this as follows."
   ]
  },
  {
   "cell_type": "code",
   "execution_count": 78,
   "metadata": {},
   "outputs": [
    {
     "data": {
      "text/plain": [
       "[1, 2, 3, 4, 5, 6, 7, 8, 9, 10, 11]"
      ]
     },
     "execution_count": 78,
     "metadata": {},
     "output_type": "execute_result"
    }
   ],
   "source": [
    "a=[1]\n",
    "for i in range(10):\n",
    "    next=a[i]+1\n",
    "    a.append(next)\n",
    "    \n",
    "a"
   ]
  },
  {
   "cell_type": "markdown",
   "metadata": {},
   "source": [
    "Notice that the second term is the first element generated within the for loop. We create a variable named next and defined it to be the current term of the sequence + 1. We then tack this term on to the end of the list, and continue doing so while i ticks through the values of range(10). Essentially, the loop is building the list piece by piece as follows:\n",
    "![](brielleimages/buildlist.png)\n"
   ]
  },
  {
   "cell_type": "code",
   "execution_count": 79,
   "metadata": {},
   "outputs": [
    {
     "data": {
      "text/plain": [
       "[1, 1, 9, 25, 49, 81]"
      ]
     },
     "execution_count": 79,
     "metadata": {},
     "output_type": "execute_result"
    }
   ],
   "source": [
    "b=[1]\n",
    "for i in range(1,10,2):\n",
    "    next=i**2\n",
    "    b.append(next)\n",
    "\n",
    "b"
   ]
  },
  {
   "cell_type": "markdown",
   "metadata": {},
   "source": [
    "# Functions\n",
    "\n",
    "You have all seen functions before in a previous math class. \n",
    "Think of some functions you have seen before. \n",
    "A common one most of us have seen would be \n",
    "$$f(x)=x^2$$\n",
    "This takes the input and squares it.  We are probably pretty comfortable dealing with these by hand and can probably graph them.  Let's now try to do it on here.  We will need to define the function and then we will try to evaluate it and then graph.  "
   ]
  },
  {
   "cell_type": "markdown",
   "metadata": {},
   "source": [
    "To define this function:\n"
   ]
  },
  {
   "cell_type": "code",
   "execution_count": 80,
   "metadata": {
    "collapsed": true
   },
   "outputs": [],
   "source": [
    "def f(x):\n",
    "    return x**2\n"
   ]
  },
  {
   "cell_type": "markdown",
   "metadata": {},
   "source": [
    "Next let's see if we can find the output for a given input. We do so by putting the function then parenthesis following its name. \n"
   ]
  },
  {
   "cell_type": "code",
   "execution_count": 81,
   "metadata": {},
   "outputs": [
    {
     "data": {
      "text/plain": [
       "16"
      ]
     },
     "execution_count": 81,
     "metadata": {},
     "output_type": "execute_result"
    }
   ],
   "source": [
    "f(4)"
   ]
  },
  {
   "cell_type": "markdown",
   "metadata": {},
   "source": [
    "What if though we wanted to know more outputs (kind of like if you generated a table by hand or in a calculator as you might have done before). \n",
    "Let's do it with the first ten integers, but let's do it without typing each individually. \n"
   ]
  },
  {
   "cell_type": "code",
   "execution_count": 82,
   "metadata": {
    "collapsed": true
   },
   "outputs": [],
   "source": [
    "def f(x):\n",
    "    return x**2\n"
   ]
  },
  {
   "cell_type": "code",
   "execution_count": 83,
   "metadata": {},
   "outputs": [
    {
     "data": {
      "text/plain": [
       "array([  1,   4,   9,  16,  25,  36,  49,  64,  81, 100])"
      ]
     },
     "execution_count": 83,
     "metadata": {},
     "output_type": "execute_result"
    }
   ],
   "source": [
    "x=np.arange(1,11,1) #first ten integers\n",
    "f(x)"
   ]
  },
  {
   "cell_type": "markdown",
   "metadata": {},
   "source": [
    "# Plotting the Functions \n",
    "\n",
    "To plot functions we will use matplotlib. \n",
    "We often want to see a function by visualizing it to help us understand. \n",
    "\n",
    "We will need to tell Jupyter to make the graphs here in the notebook.  We will use a magic command called %matplotlin inline.  We will import and abbreviate the plotting library PyPlot as plt. When we want to call something from this library we will need to use plt. in the beginning. \n",
    "\n",
    "Let us first try to plot the function $f(x)=x^2$.  We will define the function, tell it what $x$ values to evaluate it at, and then call the plot with input and output variables as\n",
    "\n",
    "plt.plot(x, f(x))\n"
   ]
  },
  {
   "cell_type": "code",
   "execution_count": 84,
   "metadata": {
    "collapsed": true
   },
   "outputs": [],
   "source": [
    "%matplotlib inline\n",
    "import matplotlib.pyplot as plt\n"
   ]
  },
  {
   "cell_type": "code",
   "execution_count": 85,
   "metadata": {},
   "outputs": [
    {
     "data": {
      "text/plain": [
       "array([  1,   4,   9,  16,  25,  36,  49,  64,  81, 100])"
      ]
     },
     "execution_count": 85,
     "metadata": {},
     "output_type": "execute_result"
    }
   ],
   "source": [
    "x=np.arange(1,11,1)\n",
    "\n",
    "def f(x):\n",
    "    return x**2\n",
    "f(x)\n"
   ]
  },
  {
   "cell_type": "code",
   "execution_count": 86,
   "metadata": {},
   "outputs": [
    {
     "data": {
      "text/plain": [
       "[<matplotlib.lines.Line2D at 0x112d38d30>]"
      ]
     },
     "execution_count": 86,
     "metadata": {},
     "output_type": "execute_result"
    },
    {
     "data": {
      "image/png": "[encoded data removed]",
      "text/plain": [
       "<matplotlib.figure.Figure at 0x113247be0>"
      ]
     },
     "metadata": {},
     "output_type": "display_data"
    }
   ],
   "source": [
    "plt.plot(x,f(x))"
   ]
  },
  {
   "cell_type": "markdown",
   "metadata": {},
   "source": [
    "We need to also consider how to plot sequences with matplotlib\n",
    "\n",
    "Instead of generating this as a function (continuous) lets looks at it as a sequence of discrete points.  We will put a point or marker at each point. \n"
   ]
  },
  {
   "cell_type": "code",
   "execution_count": 87,
   "metadata": {},
   "outputs": [
    {
     "data": {
      "text/plain": [
       "[1, 4, 9, 16, 25, 36, 49, 64, 81, 100]"
      ]
     },
     "execution_count": 87,
     "metadata": {},
     "output_type": "execute_result"
    }
   ],
   "source": [
    "seq=[]\n",
    "for i in range(1,11):\n",
    "    next=i**2\n",
    "    seq.append(next)\n",
    "    \n",
    "seq"
   ]
  },
  {
   "cell_type": "code",
   "execution_count": 88,
   "metadata": {},
   "outputs": [
    {
     "data": {
      "text/plain": [
       "[<matplotlib.lines.Line2D at 0x113281e48>]"
      ]
     },
     "execution_count": 88,
     "metadata": {},
     "output_type": "execute_result"
    },
    {
     "data": {
      "image/png": "[encoded data removed]",
      "text/plain": [
       "<matplotlib.figure.Figure at 0x112d23cc0>"
      ]
     },
     "metadata": {},
     "output_type": "display_data"
    }
   ],
   "source": [
    "plt.plot(seq, 'o')"
   ]
  },
  {
   "cell_type": "markdown",
   "metadata": {},
   "source": [
    "We can change the way these dots look if we want. "
   ]
  },
  {
   "cell_type": "code",
   "execution_count": 89,
   "metadata": {},
   "outputs": [
    {
     "data": {
      "text/plain": [
       "[<matplotlib.lines.Line2D at 0x1131ac128>]"
      ]
     },
     "execution_count": 89,
     "metadata": {},
     "output_type": "execute_result"
    },
    {
     "data": {
      "image/png": "[encoded data removed]",
      "text/plain": [
       "<matplotlib.figure.Figure at 0x113119ef0>"
      ]
     },
     "metadata": {},
     "output_type": "display_data"
    }
   ],
   "source": [
    "plt.plot(seq, 'o', c='lightblue', markersize=12, alpha=0.4)"
   ]
  },
  {
   "cell_type": "code",
   "execution_count": 90,
   "metadata": {},
   "outputs": [
    {
     "data": {
      "text/plain": [
       "<matplotlib.legend.Legend at 0x1131cac18>"
      ]
     },
     "execution_count": 90,
     "metadata": {},
     "output_type": "execute_result"
    },
    {
     "data": {
      "image/png": "[encoded data removed]",
      "text/plain": [
       "<matplotlib.figure.Figure at 0x1132ae4e0>"
      ]
     },
     "metadata": {},
     "output_type": "display_data"
    }
   ],
   "source": [
    "plt.plot(seq, '^', c='lightpink', markersize=10, alpha=0.7,label=\"Sequence A\")\n",
    "plt.title(\"Changing the way the plot looks\")\n",
    "plt.xlabel(\"Index of Term\")\n",
    "plt.ylabel(\"Value of Term\")\n",
    "plt.legend(loc=\"best\", frameon=False)"
   ]
  },
  {
   "cell_type": "markdown",
   "metadata": {},
   "source": [
    "# Some Real Data \n",
    "### And a lot of data points\n",
    "\n",
    "What if we want to handle some real data maybe rather than being given a function.  Using python in Jupyter notebook we can handle more than on our calculators, for example.  Let's begin simply by visualizing some real data. \n",
    "\n",
    "To start we will import some stock data.  We will look at Tesla stock. \n",
    "We first need to import some packages to help us.\n",
    "\n",
    "We also need to go to terminal (on a mac) or command prompt (on windows machine) and type:\n",
    "\n",
    "pip install pandas-datareader\n"
   ]
  },
  {
   "cell_type": "code",
   "execution_count": 91,
   "metadata": {
    "collapsed": true
   },
   "outputs": [],
   "source": [
    "import datetime as dt\n",
    "from matplotlib import style\n",
    "import pandas as pd\n",
    "import pandas_datareader.data as web\n"
   ]
  },
  {
   "cell_type": "markdown",
   "metadata": {},
   "source": [
    "Now we will grab some data about Tesla stock.  \n",
    "The first is a type of plot. \n",
    "\n",
    "The next line is telling when to start getting the stock price. So I started grabbing 2015, month 1, day 1 \n",
    "The next line is telling when to end getting data. \n",
    "\n",
    "The next line is reading in the data from the internet, here I chose to use Yahoo finance.  I used the name of the stock, where to get the data, and what time frame.  \n",
    "\n",
    "Next I printed the table. \n",
    "\n",
    " "
   ]
  },
  {
   "cell_type": "code",
   "execution_count": 92,
   "metadata": {},
   "outputs": [
    {
     "name": "stdout",
     "output_type": "stream",
     "text": [
      "                  High         Low        Open       Close   Volume  \\\n",
      "Date                                                                  \n",
      "2015-01-02  223.250000  213.259995  222.869995  219.309998  4764400   \n",
      "2015-01-05  216.500000  207.160004  214.550003  210.089996  5368500   \n",
      "2015-01-06  214.199997  204.210007  210.059998  211.279999  6261900   \n",
      "2015-01-07  214.779999  209.779999  213.350006  210.949997  2968400   \n",
      "2015-01-08  213.800003  210.009995  212.809998  210.619995  3442500   \n",
      "\n",
      "             Adj Close  \n",
      "Date                    \n",
      "2015-01-02  219.309998  \n",
      "2015-01-05  210.089996  \n",
      "2015-01-06  211.279999  \n",
      "2015-01-07  210.949997  \n",
      "2015-01-08  210.619995  \n"
     ]
    }
   ],
   "source": [
    "style.use('ggplot') #just a style of plot there are others\n",
    "\n",
    "start = dt.datetime(2015, 1, 1)\n",
    "end = dt.datetime.now()\n",
    "df = web.DataReader('TSLA', 'yahoo', start, end)\n",
    "\n",
    "print(df.head())"
   ]
  },
  {
   "cell_type": "markdown",
   "metadata": {},
   "source": [
    "Now let's plot it.  The following will just show the volume because the scale isn't allowing us to see the rest right now. "
   ]
  },
  {
   "cell_type": "code",
   "execution_count": 93,
   "metadata": {},
   "outputs": [
    {
     "data": {
      "image/png": "[encoded data removed]",
      "text/plain": [
       "<matplotlib.figure.Figure at 0x1131976a0>"
      ]
     },
     "metadata": {},
     "output_type": "display_data"
    }
   ],
   "source": [
    "df.plot()\n",
    "plt.show()"
   ]
  },
  {
   "cell_type": "markdown",
   "metadata": {},
   "source": [
    "Next I will tell it to plot the adjusted closing price. "
   ]
  },
  {
   "cell_type": "code",
   "execution_count": 94,
   "metadata": {},
   "outputs": [
    {
     "data": {
      "image/png": "[encoded data removed]",
      "text/plain": [
       "<matplotlib.figure.Figure at 0x1132bda20>"
      ]
     },
     "metadata": {},
     "output_type": "display_data"
    }
   ],
   "source": [
    "df['Adj Close'].plot()\n",
    "plt.show()"
   ]
  },
  {
   "cell_type": "markdown",
   "metadata": {},
   "source": [
    "I can also produce tables. Below will show a table of the high and the low for the days with data in the middle truncated (hidden basically).  "
   ]
  },
  {
   "cell_type": "code",
   "execution_count": 95,
   "metadata": {},
   "outputs": [
    {
     "data": {
      "text/html": [
       "<div>\n",
       "<style>\n",
       "    .dataframe thead tr:only-child th {\n",
       "        text-align: right;\n",
       "    }\n",
       "\n",
       "    .dataframe thead th {\n",
       "        text-align: left;\n",
       "    }\n",
       "\n",
       "    .dataframe tbody tr th {\n",
       "        vertical-align: top;\n",
       "    }\n",
       "</style>\n",
       "<table border=\"1\" class=\"dataframe\">\n",
       "  <thead>\n",
       "    <tr style=\"text-align: right;\">\n",
       "      <th></th>\n",
       "      <th>High</th>\n",
       "      <th>Low</th>\n",
       "    </tr>\n",
       "    <tr>\n",
       "      <th>Date</th>\n",
       "      <th></th>\n",
       "      <th></th>\n",
       "    </tr>\n",
       "  </thead>\n",
       "  <tbody>\n",
       "    <tr>\n",
       "      <th>2015-01-02</th>\n",
       "      <td>223.250000</td>\n",
       "      <td>213.259995</td>\n",
       "    </tr>\n",
       "    <tr>\n",
       "      <th>2015-01-05</th>\n",
       "      <td>216.500000</td>\n",
       "      <td>207.160004</td>\n",
       "    </tr>\n",
       "    <tr>\n",
       "      <th>2015-01-06</th>\n",
       "      <td>214.199997</td>\n",
       "      <td>204.210007</td>\n",
       "    </tr>\n",
       "    <tr>\n",
       "      <th>2015-01-07</th>\n",
       "      <td>214.779999</td>\n",
       "      <td>209.779999</td>\n",
       "    </tr>\n",
       "    <tr>\n",
       "      <th>2015-01-08</th>\n",
       "      <td>213.800003</td>\n",
       "      <td>210.009995</td>\n",
       "    </tr>\n",
       "    <tr>\n",
       "      <th>2015-01-09</th>\n",
       "      <td>209.979996</td>\n",
       "      <td>204.960007</td>\n",
       "    </tr>\n",
       "    <tr>\n",
       "      <th>2015-01-12</th>\n",
       "      <td>204.470001</td>\n",
       "      <td>199.250000</td>\n",
       "    </tr>\n",
       "    <tr>\n",
       "      <th>2015-01-13</th>\n",
       "      <td>207.610001</td>\n",
       "      <td>200.910004</td>\n",
       "    </tr>\n",
       "    <tr>\n",
       "      <th>2015-01-14</th>\n",
       "      <td>195.199997</td>\n",
       "      <td>185.000000</td>\n",
       "    </tr>\n",
       "    <tr>\n",
       "      <th>2015-01-15</th>\n",
       "      <td>195.750000</td>\n",
       "      <td>190.000000</td>\n",
       "    </tr>\n",
       "    <tr>\n",
       "      <th>2015-01-16</th>\n",
       "      <td>194.490005</td>\n",
       "      <td>189.649994</td>\n",
       "    </tr>\n",
       "    <tr>\n",
       "      <th>2015-01-20</th>\n",
       "      <td>194.119995</td>\n",
       "      <td>187.039993</td>\n",
       "    </tr>\n",
       "    <tr>\n",
       "      <th>2015-01-21</th>\n",
       "      <td>198.679993</td>\n",
       "      <td>189.509995</td>\n",
       "    </tr>\n",
       "    <tr>\n",
       "      <th>2015-01-22</th>\n",
       "      <td>203.240005</td>\n",
       "      <td>195.199997</td>\n",
       "    </tr>\n",
       "    <tr>\n",
       "      <th>2015-01-23</th>\n",
       "      <td>203.500000</td>\n",
       "      <td>198.330002</td>\n",
       "    </tr>\n",
       "    <tr>\n",
       "      <th>2015-01-26</th>\n",
       "      <td>208.619995</td>\n",
       "      <td>201.050003</td>\n",
       "    </tr>\n",
       "    <tr>\n",
       "      <th>2015-01-27</th>\n",
       "      <td>208.029999</td>\n",
       "      <td>203.300003</td>\n",
       "    </tr>\n",
       "    <tr>\n",
       "      <th>2015-01-28</th>\n",
       "      <td>206.369995</td>\n",
       "      <td>198.419998</td>\n",
       "    </tr>\n",
       "    <tr>\n",
       "      <th>2015-01-29</th>\n",
       "      <td>205.979996</td>\n",
       "      <td>196.500000</td>\n",
       "    </tr>\n",
       "    <tr>\n",
       "      <th>2015-01-30</th>\n",
       "      <td>207.470001</td>\n",
       "      <td>203.000000</td>\n",
       "    </tr>\n",
       "    <tr>\n",
       "      <th>2015-02-02</th>\n",
       "      <td>211.949997</td>\n",
       "      <td>203.300003</td>\n",
       "    </tr>\n",
       "    <tr>\n",
       "      <th>2015-02-03</th>\n",
       "      <td>220.369995</td>\n",
       "      <td>211.270004</td>\n",
       "    </tr>\n",
       "    <tr>\n",
       "      <th>2015-02-04</th>\n",
       "      <td>221.479996</td>\n",
       "      <td>216.800003</td>\n",
       "    </tr>\n",
       "    <tr>\n",
       "      <th>2015-02-05</th>\n",
       "      <td>225.479996</td>\n",
       "      <td>219.639999</td>\n",
       "    </tr>\n",
       "    <tr>\n",
       "      <th>2015-02-06</th>\n",
       "      <td>223.399994</td>\n",
       "      <td>216.500000</td>\n",
       "    </tr>\n",
       "    <tr>\n",
       "      <th>2015-02-09</th>\n",
       "      <td>217.929993</td>\n",
       "      <td>211.990005</td>\n",
       "    </tr>\n",
       "    <tr>\n",
       "      <th>2015-02-10</th>\n",
       "      <td>220.500000</td>\n",
       "      <td>215.000000</td>\n",
       "    </tr>\n",
       "    <tr>\n",
       "      <th>2015-02-11</th>\n",
       "      <td>214.740005</td>\n",
       "      <td>207.279999</td>\n",
       "    </tr>\n",
       "    <tr>\n",
       "      <th>2015-02-12</th>\n",
       "      <td>203.089996</td>\n",
       "      <td>193.279999</td>\n",
       "    </tr>\n",
       "    <tr>\n",
       "      <th>2015-02-13</th>\n",
       "      <td>205.990005</td>\n",
       "      <td>200.910004</td>\n",
       "    </tr>\n",
       "    <tr>\n",
       "      <th>...</th>\n",
       "      <td>...</td>\n",
       "      <td>...</td>\n",
       "    </tr>\n",
       "    <tr>\n",
       "      <th>2018-12-03</th>\n",
       "      <td>366.000000</td>\n",
       "      <td>352.000000</td>\n",
       "    </tr>\n",
       "    <tr>\n",
       "      <th>2018-12-04</th>\n",
       "      <td>368.679993</td>\n",
       "      <td>352.000000</td>\n",
       "    </tr>\n",
       "    <tr>\n",
       "      <th>2018-12-06</th>\n",
       "      <td>367.380005</td>\n",
       "      <td>350.760010</td>\n",
       "    </tr>\n",
       "    <tr>\n",
       "      <th>2018-12-07</th>\n",
       "      <td>379.489990</td>\n",
       "      <td>357.649994</td>\n",
       "    </tr>\n",
       "    <tr>\n",
       "      <th>2018-12-10</th>\n",
       "      <td>365.980011</td>\n",
       "      <td>353.119995</td>\n",
       "    </tr>\n",
       "    <tr>\n",
       "      <th>2018-12-11</th>\n",
       "      <td>372.170013</td>\n",
       "      <td>360.230011</td>\n",
       "    </tr>\n",
       "    <tr>\n",
       "      <th>2018-12-12</th>\n",
       "      <td>371.910004</td>\n",
       "      <td>365.160004</td>\n",
       "    </tr>\n",
       "    <tr>\n",
       "      <th>2018-12-13</th>\n",
       "      <td>377.440002</td>\n",
       "      <td>366.750000</td>\n",
       "    </tr>\n",
       "    <tr>\n",
       "      <th>2018-12-14</th>\n",
       "      <td>377.869995</td>\n",
       "      <td>364.329987</td>\n",
       "    </tr>\n",
       "    <tr>\n",
       "      <th>2018-12-17</th>\n",
       "      <td>365.700012</td>\n",
       "      <td>343.880005</td>\n",
       "    </tr>\n",
       "    <tr>\n",
       "      <th>2018-12-18</th>\n",
       "      <td>351.549988</td>\n",
       "      <td>333.690002</td>\n",
       "    </tr>\n",
       "    <tr>\n",
       "      <th>2018-12-19</th>\n",
       "      <td>347.010010</td>\n",
       "      <td>329.739990</td>\n",
       "    </tr>\n",
       "    <tr>\n",
       "      <th>2018-12-20</th>\n",
       "      <td>330.290009</td>\n",
       "      <td>311.869995</td>\n",
       "    </tr>\n",
       "    <tr>\n",
       "      <th>2018-12-21</th>\n",
       "      <td>323.470001</td>\n",
       "      <td>312.440002</td>\n",
       "    </tr>\n",
       "    <tr>\n",
       "      <th>2018-12-24</th>\n",
       "      <td>314.500000</td>\n",
       "      <td>295.200012</td>\n",
       "    </tr>\n",
       "    <tr>\n",
       "      <th>2018-12-26</th>\n",
       "      <td>326.970001</td>\n",
       "      <td>294.089996</td>\n",
       "    </tr>\n",
       "    <tr>\n",
       "      <th>2018-12-27</th>\n",
       "      <td>322.170013</td>\n",
       "      <td>301.500000</td>\n",
       "    </tr>\n",
       "    <tr>\n",
       "      <th>2018-12-28</th>\n",
       "      <td>336.239990</td>\n",
       "      <td>318.410004</td>\n",
       "    </tr>\n",
       "    <tr>\n",
       "      <th>2018-12-31</th>\n",
       "      <td>339.209991</td>\n",
       "      <td>325.260010</td>\n",
       "    </tr>\n",
       "    <tr>\n",
       "      <th>2019-01-02</th>\n",
       "      <td>315.130005</td>\n",
       "      <td>298.799988</td>\n",
       "    </tr>\n",
       "    <tr>\n",
       "      <th>2019-01-03</th>\n",
       "      <td>309.399994</td>\n",
       "      <td>297.380005</td>\n",
       "    </tr>\n",
       "    <tr>\n",
       "      <th>2019-01-04</th>\n",
       "      <td>318.000000</td>\n",
       "      <td>302.730011</td>\n",
       "    </tr>\n",
       "    <tr>\n",
       "      <th>2019-01-07</th>\n",
       "      <td>336.739990</td>\n",
       "      <td>317.750000</td>\n",
       "    </tr>\n",
       "    <tr>\n",
       "      <th>2019-01-08</th>\n",
       "      <td>344.010010</td>\n",
       "      <td>327.019989</td>\n",
       "    </tr>\n",
       "    <tr>\n",
       "      <th>2019-01-09</th>\n",
       "      <td>343.500000</td>\n",
       "      <td>331.470001</td>\n",
       "    </tr>\n",
       "    <tr>\n",
       "      <th>2019-01-10</th>\n",
       "      <td>345.390015</td>\n",
       "      <td>331.790009</td>\n",
       "    </tr>\n",
       "    <tr>\n",
       "      <th>2019-01-11</th>\n",
       "      <td>348.410004</td>\n",
       "      <td>338.769989</td>\n",
       "    </tr>\n",
       "    <tr>\n",
       "      <th>2019-01-14</th>\n",
       "      <td>342.500000</td>\n",
       "      <td>334.000000</td>\n",
       "    </tr>\n",
       "    <tr>\n",
       "      <th>2019-01-15</th>\n",
       "      <td>348.799988</td>\n",
       "      <td>334.500000</td>\n",
       "    </tr>\n",
       "    <tr>\n",
       "      <th>2019-01-16</th>\n",
       "      <td>352.000000</td>\n",
       "      <td>343.500000</td>\n",
       "    </tr>\n",
       "  </tbody>\n",
       "</table>\n",
       "<p>1017 rows × 2 columns</p>\n",
       "</div>"
      ],
      "text/plain": [
       "                  High         Low\n",
       "Date                              \n",
       "2015-01-02  223.250000  213.259995\n",
       "2015-01-05  216.500000  207.160004\n",
       "2015-01-06  214.199997  204.210007\n",
       "2015-01-07  214.779999  209.779999\n",
       "2015-01-08  213.800003  210.009995\n",
       "2015-01-09  209.979996  204.960007\n",
       "2015-01-12  204.470001  199.250000\n",
       "2015-01-13  207.610001  200.910004\n",
       "2015-01-14  195.199997  185.000000\n",
       "2015-01-15  195.750000  190.000000\n",
       "2015-01-16  194.490005  189.649994\n",
       "2015-01-20  194.119995  187.039993\n",
       "2015-01-21  198.679993  189.509995\n",
       "2015-01-22  203.240005  195.199997\n",
       "2015-01-23  203.500000  198.330002\n",
       "2015-01-26  208.619995  201.050003\n",
       "2015-01-27  208.029999  203.300003\n",
       "2015-01-28  206.369995  198.419998\n",
       "2015-01-29  205.979996  196.500000\n",
       "2015-01-30  207.470001  203.000000\n",
       "2015-02-02  211.949997  203.300003\n",
       "2015-02-03  220.369995  211.270004\n",
       "2015-02-04  221.479996  216.800003\n",
       "2015-02-05  225.479996  219.639999\n",
       "2015-02-06  223.399994  216.500000\n",
       "2015-02-09  217.929993  211.990005\n",
       "2015-02-10  220.500000  215.000000\n",
       "2015-02-11  214.740005  207.279999\n",
       "2015-02-12  203.089996  193.279999\n",
       "2015-02-13  205.990005  200.910004\n",
       "...                ...         ...\n",
       "2018-12-03  366.000000  352.000000\n",
       "2018-12-04  368.679993  352.000000\n",
       "2018-12-06  367.380005  350.760010\n",
       "2018-12-07  379.489990  357.649994\n",
       "2018-12-10  365.980011  353.119995\n",
       "2018-12-11  372.170013  360.230011\n",
       "2018-12-12  371.910004  365.160004\n",
       "2018-12-13  377.440002  366.750000\n",
       "2018-12-14  377.869995  364.329987\n",
       "2018-12-17  365.700012  343.880005\n",
       "2018-12-18  351.549988  333.690002\n",
       "2018-12-19  347.010010  329.739990\n",
       "2018-12-20  330.290009  311.869995\n",
       "2018-12-21  323.470001  312.440002\n",
       "2018-12-24  314.500000  295.200012\n",
       "2018-12-26  326.970001  294.089996\n",
       "2018-12-27  322.170013  301.500000\n",
       "2018-12-28  336.239990  318.410004\n",
       "2018-12-31  339.209991  325.260010\n",
       "2019-01-02  315.130005  298.799988\n",
       "2019-01-03  309.399994  297.380005\n",
       "2019-01-04  318.000000  302.730011\n",
       "2019-01-07  336.739990  317.750000\n",
       "2019-01-08  344.010010  327.019989\n",
       "2019-01-09  343.500000  331.470001\n",
       "2019-01-10  345.390015  331.790009\n",
       "2019-01-11  348.410004  338.769989\n",
       "2019-01-14  342.500000  334.000000\n",
       "2019-01-15  348.799988  334.500000\n",
       "2019-01-16  352.000000  343.500000\n",
       "\n",
       "[1017 rows x 2 columns]"
      ]
     },
     "execution_count": 95,
     "metadata": {},
     "output_type": "execute_result"
    }
   ],
   "source": [
    "df[['High','Low']]"
   ]
  },
  {
   "cell_type": "markdown",
   "metadata": {},
   "source": [
    "I don't know about you but I personally think that is pretty cool that we can easily import a lot of real data straight from yahoo finance (we could use others as well).  I don't think I can do that on my calculuator. This will hopefully help us do some math with data from the real world.  \n"
   ]
  },
  {
   "cell_type": "markdown",
   "metadata": {},
   "source": [
    "# For you to do!\n",
    "\n",
    "One more thing to download to help us convert things to pdfs, which is how I will get you to turn these in.\n",
    "Follow this link: \n",
    "http://www.highpoint.edu/physics/software-tech/#tab3\n",
    "\n",
    "Then download for your type of machine using the appropriate link.  \n",
    "\n",
    "From this point on in this notebook you will complete this and then you will turn in a pdf of the whole notebook. The goal of this lab is to get you more familiar with some of the syntax we learned today before we progress to calculus topics. \n",
    "\n",
    "## 1. Tell me about you! \n",
    " - Tell me your name (put this in bold font).  **Brielle**\n",
    " - What year you are you in school (put this in italics).\n",
    " - What was the last math you took and how long ago was that?\n",
    " - What are you excited to learn this year?\n",
    " - Have you ever done any coding before?\n",
    " - Tell me something interesting about yourself.\n",
    " - Tell me anything else you think I need to know.\n",
    " - Tell me about how you feel about math coming into this class.\n",
    " \n",
    " \n",
    " ## 2. Put in a picture of you! \n",
    " Use the commands we learned earlier to show a picture of yourself.  Hint you are going to need to save your picture in the folder in which you are dong these notebooks.  \n",
    " \n",
    " ## 3. Do a little math. \n",
    " Using commands we have learned earlier in this notebook do the following problems.  This should all be review of previous math you have done you are just using the computer to do some of it for you. \n",
    " \n",
    "\n",
    " \n",
    " 1. Add 3 and 6\n",
    " \n",
    " 2. Subtract 9 from 10\n",
    " \n",
    " 3. Perform the following \n",
    " \n",
    "     3a.Get the notebook to print pi for you\n",
    " \n",
    "     3b. Produce and show an array showing numbers 0 to 22 \n",
    " \n",
    " 4. Translate the sentence to a mathematical funtion, write it, evaluate it at x=2, and plot each first as a function and then as a sequence of discrete points. \n",
    " \n",
    "    4a. \"Cube a number and add seven\"\n",
    "        For the discrete points plot this one in purple triangles\n",
    "    4b. \"A number raised to the fourth minus 3 then take the cube root\"\n",
    "        For the discrete points plot this one with blue circles\n",
    " \n",
    " 5. Stocks.  Repeat the process with a stock (or company) that is of interest to you.  You may need to look up the stock symbol but that can be done by googling \"company name stock symbol\".  Doing that with Yeti coolers for example yields YETI as the symbol.  Do what we did with Tesla stock but do it with your stock of choice and do it starting January 1, 2016 (rather than the 2015 we did earlier).  \n",
    " Produce the following for your stock.\n",
    "     - Read the data in and print it in a table. \n",
    "     - Plot the adjusted close for that stock. \n",
    "     - Make a table of the high and low for that stock. \n",
    "     \n",
    "    \n"
   ]
  },
  {
   "cell_type": "markdown",
   "metadata": {},
   "source": [
    "## Think about what you learned today.\n",
    "Write a short paragraph about what you learned in this notebook.  "
   ]
  },
  {
   "cell_type": "markdown",
   "metadata": {},
   "source": [
    "# Looking ahead...\n",
    "   Our next notebook will focus on different types of functions such as linear, quadratic, and exponential. We will work on understanding and modeling them in terms of words, numbers, tables, and plots. \n",
    "    "
   ]
  },
  {
   "cell_type": "markdown",
   "metadata": {
    "collapsed": true
   },
   "source": [
    "# Converting to a pdf\n",
    "\n",
    "Open Terminal (on a mac - you could search Terminal) or open Command Prompt Window (on a windows computer - Click the \"Start >> Program Files >> Accessories >> Command Prompt\"  or \"Start\" and then in the search bar type cmd) \n",
    "\n",
    "Once you are here type *cd* then drag the folder in which you have your jupyter notebook stored to this line.  This should input the commands to get you into the correct directory. Then press enter. Now you should be ready to enter the command that will help you convert the file to a pdf. \n",
    "\n",
    "Type: ** jupyter nbconvert --to pdf nameofyourfile.ipynb\" ** Then press enter.  This should convert it to a pdf for you.  The formatting might be a little off and if your pictures are not in the same folder they won't import - if my pictures don't come through on your notebook pdf right now I am not concerned. We will get better with this as we go. \n",
    "\n",
    "**Note: where I have name of your file written you actually need to write the name of your file.  Also make sure the name has no space.**\n",
    "### Please name your file following this set up:  lastname_firstname_lab_one.ipynb\n",
    "\n",
    "The pdf you just created should appear in the folder where you have your jupyter notebooks if you did it correctly. \n",
    "\n",
    "I have uploaded a video to Blackboard of me doing it on my mac to help you try.  **Please come and see me if you are having trouble.** It is incredibly easy to mess up! \n"
   ]
  },
  {
   "cell_type": "code",
   "execution_count": null,
   "metadata": {
    "collapsed": true
   },
   "outputs": [],
   "source": []
  }
 ],
 "metadata": {
  "kernelspec": {
   "display_name": "Python 3",
   "language": "python",
   "name": "python3"
  },
  "language_info": {
   "codemirror_mode": {
    "name": "ipython",
    "version": 3
   },
   "file_extension": ".py",
   "mimetype": "text/x-python",
   "name": "python",
   "nbconvert_exporter": "python",
   "pygments_lexer": "ipython3",
   "version": "3.6.7"
  }
 },
 "nbformat": 4,
 "nbformat_minor": 2
}
