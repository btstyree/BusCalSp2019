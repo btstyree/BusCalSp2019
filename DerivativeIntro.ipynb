{
 "cells": [
  {
   "cell_type": "markdown",
   "metadata": {},
   "source": [
    "# The Derivative\n",
    "Goals for this notebook: \n",
    "\n",
    " - Limits on python \n",
    " \n",
    " - Understand a definition of the derivative\n",
    "\n",
    " - Interpret derivative as a function\n",
    "\n",
    " - Interpret derivative as slope of tangent line\n",
    " \n",
    " - Use python to compute derivatives and use examples to conjecture rules for computing derivatives. \n",
    " \n",
    "\n",
    "\n",
    "## Reminder: Run all cells before you work on this each time\n"
   ]
  },
  {
   "cell_type": "code",
   "execution_count": 1,
   "metadata": {
    "collapsed": true
   },
   "outputs": [],
   "source": [
    "# importing libraries we need. \n",
    "%matplotlib inline\n",
    "import matplotlib.pyplot as plt   #helps us plot\n",
    "import numpy as np  #numpy python's numeric library\n",
    "import sympy as sy  # sympy python's symbolic library\n",
    "from sympy import oo"
   ]
  },
  {
   "cell_type": "markdown",
   "metadata": {},
   "source": [
    "## Limits \n",
    "Last class we discussed limits. We estimated them by looking at graphs and by plugging in values closer and closer to the x we were approaching. \n",
    "Let's let python do some of that for us.  \n",
    "\n",
    "The other day we considered \n",
    "$$\\lim_{x \\rightarrow 0}\\frac{1}{x}$$\n",
    "and \n",
    "\n",
    "$$\\lim_{x \\rightarrow \\infty}\\frac{1}{x}$$\n",
    "\n",
    "Let's plot these and consider these limits again"
   ]
  },
  {
   "cell_type": "code",
   "execution_count": 484,
   "metadata": {},
   "outputs": [
    {
     "data": {
      "text/plain": [
       "[<matplotlib.lines.Line2D at 0x1a27389e48>]"
      ]
     },
     "execution_count": 484,
     "metadata": {},
     "output_type": "execute_result"
    },
    {
     "data": {
      "image/png": "[encoded data removed]",
      "text/plain": [
       "<matplotlib.figure.Figure at 0x1a27146d30>"
      ]
     },
     "metadata": {},
     "output_type": "display_data"
    }
   ],
   "source": [
    "x=np.linspace(-100,100,1000)  #define's x as numbers from -100 to 100 in 1000 evenly spaced\n",
    "plt.plot(x, 1/x)    #plots input (x) and output 1/x"
   ]
  },
  {
   "cell_type": "code",
   "execution_count": 485,
   "metadata": {},
   "outputs": [
    {
     "data": {
      "text/plain": [
       "oo"
      ]
     },
     "execution_count": 485,
     "metadata": {},
     "output_type": "execute_result"
    }
   ],
   "source": [
    "\n",
    "x =sy.Symbol('x')  #define x as a symbol\n",
    "\n",
    "\n",
    "sy.limit(1/x, x, 0)  \n",
    "# does the limit of f(x)=1/x as x approaches 0,  first list the function, then the variable of interest, them the x you are approaching, then can put from the right \n"
   ]
  },
  {
   "cell_type": "markdown",
   "metadata": {},
   "source": [
    "That's a problem though because that is not the limit as x approaches 0, let's look at the one sided limits. "
   ]
  },
  {
   "cell_type": "code",
   "execution_count": 486,
   "metadata": {},
   "outputs": [
    {
     "data": {
      "text/plain": [
       "-oo"
      ]
     },
     "execution_count": 486,
     "metadata": {},
     "output_type": "execute_result"
    }
   ],
   "source": [
    "# does the limit of f(x)=1/x as x approaches 0,  first list the function, then the variable of interest, them the x you are approaching, then can put from the left or right \n",
    "sy.limit(1/x,x,0,'-')"
   ]
  },
  {
   "cell_type": "code",
   "execution_count": 487,
   "metadata": {},
   "outputs": [
    {
     "data": {
      "text/plain": [
       "oo"
      ]
     },
     "execution_count": 487,
     "metadata": {},
     "output_type": "execute_result"
    }
   ],
   "source": [
    "sy.limit(1/x,x,0,'+')"
   ]
  },
  {
   "cell_type": "markdown",
   "metadata": {},
   "source": [
    "### Example\n",
    "The average cost per disc in dollars incurred by Herald Records in pressing $x$ DVs is given by this average cost functions $$\\bar{C}(x)= 2.2 + \\frac{2500}{x}$$\n",
    "\n",
    "Estimate $\\lim_{x \\rightarrow \\infty}\\bar{C(x)}$ and interpret the result. "
   ]
  },
  {
   "cell_type": "code",
   "execution_count": null,
   "metadata": {
    "collapsed": true
   },
   "outputs": [],
   "source": []
  },
  {
   "cell_type": "markdown",
   "metadata": {},
   "source": [
    "# Slope and Differences\n",
    "\n",
    "We will discuss some problems with differences.  We want to note some connections between these operations, and remind ourselves on the important concept of **slope**.  \n",
    "\n",
    "- Recognize patterns in differences of sequences over small intervals\n",
    "\n",
    "- Connect patterns in differences to the nature of original sequence\n",
    "\n",
    "- Determine slope for sequences changing in linear, quadratic, exponential, and trigonometric fashion\n",
    "\n",
    "We will examine some arbitrary sequences.  Take, for example the numbers:\n",
    "\n",
    "$$ f = 0 , 2,  6,  7,  4,  9$$\n",
    "\n",
    "First, we want to examine the differences between terms.  One way we can do this is similar to our earlier work generating seqences.  To start, we will find the difference between 2 and 0, then 6 and 2, then 7 and 4, then 9 and 4.  Manually this is easy, but we can also consider this as a list and operate on these numbers based on their index.\n",
    "\n"
   ]
  },
  {
   "cell_type": "code",
   "execution_count": 488,
   "metadata": {
    "collapsed": true
   },
   "outputs": [],
   "source": [
    "f = [0, 2, 6, 7, 4, 9]  #define f to  be this sequence of numbers"
   ]
  },
  {
   "cell_type": "code",
   "execution_count": 489,
   "metadata": {},
   "outputs": [
    {
     "data": {
      "text/plain": [
       "(2, 0)"
      ]
     },
     "execution_count": 489,
     "metadata": {},
     "output_type": "execute_result"
    }
   ],
   "source": [
    "f[1], f[0]  #showing the f[1] is really calling the second of the list, will need these to do differences"
   ]
  },
  {
   "cell_type": "code",
   "execution_count": 490,
   "metadata": {},
   "outputs": [
    {
     "data": {
      "text/plain": [
       "(2, 4)"
      ]
     },
     "execution_count": 490,
     "metadata": {},
     "output_type": "execute_result"
    }
   ],
   "source": [
    "f[1] - f[0], f[2] - f[1]  #shows f(1)-f(0) and f(2)-f(1)"
   ]
  },
  {
   "cell_type": "markdown",
   "metadata": {},
   "source": [
    "In the end, we would have the following list $v$ formed by the subractions starting with index $i = 0$.\n",
    "\n",
    "$$\\displaystyle f_1 - f_0, ~f_2 - f_1, ~f_3 - f_2,~ f_4 - f_3, ~f_5 - f_4$$\n",
    "\n",
    "or \n",
    "\n",
    "$$v_i =  f_i - f_{i-1}$$\n",
    "\n",
    "We can create this sequence with a for loop."
   ]
  },
  {
   "cell_type": "code",
   "execution_count": 491,
   "metadata": {},
   "outputs": [
    {
     "data": {
      "text/plain": [
       "[2, 4, 1, -3, 5]"
      ]
     },
     "execution_count": 491,
     "metadata": {},
     "output_type": "execute_result"
    }
   ],
   "source": [
    "v = [] # what we are calling the list of differences below we create the loop for finding differences\n",
    "n = len(f)  #returns the number of items in our list\n",
    "n\n",
    "for i in range(n-1):\n",
    "    next = f[i+1] - f[i]    #finds the next element by subtracting the number before it from the next\n",
    "    v.append(next)\n",
    "    \n",
    "v  #prints the items in v"
   ]
  },
  {
   "cell_type": "code",
   "execution_count": 492,
   "metadata": {},
   "outputs": [
    {
     "data": {
      "text/plain": [
       "9"
      ]
     },
     "execution_count": 492,
     "metadata": {},
     "output_type": "execute_result"
    }
   ],
   "source": [
    "sum(v)   #adds up the elements in the list v"
   ]
  },
  {
   "cell_type": "code",
   "execution_count": 493,
   "metadata": {},
   "outputs": [
    {
     "data": {
      "text/plain": [
       "array([ 2,  4,  1, -3,  5])"
      ]
     },
     "execution_count": 493,
     "metadata": {},
     "output_type": "execute_result"
    }
   ],
   "source": [
    "difs = np.diff(f)  #uses the command np.diff to find the differences of our list\n",
    "difs"
   ]
  },
  {
   "cell_type": "code",
   "execution_count": 494,
   "metadata": {},
   "outputs": [
    {
     "data": {
      "text/plain": [
       "9"
      ]
     },
     "execution_count": 494,
     "metadata": {},
     "output_type": "execute_result"
    }
   ],
   "source": [
    "sum(difs)"
   ]
  },
  {
   "cell_type": "code",
   "execution_count": 495,
   "metadata": {},
   "outputs": [
    {
     "data": {
      "text/plain": [
       "Text(0.5,1,'Plot of differences $v$')"
      ]
     },
     "execution_count": 495,
     "metadata": {},
     "output_type": "execute_result"
    },
    {
     "data": {
      "image/png": "[encoded data removed]",
      "text/plain": [
       "<matplotlib.figure.Figure at 0x1a274195f8>"
      ]
     },
     "metadata": {},
     "output_type": "display_data"
    }
   ],
   "source": [
    "f = [2, 3, 4, 5, 6, 7]  #new sequence \n",
    "difs = np.diff(f)   #this will compute the difference of our sequence of numbers\n",
    "\n",
    "plt.figure(figsize = (11, 5))\n",
    "plt.subplot(1, 2, 1)  #this will allow us to plot them beside each other input in subplot() is rows of graphs, columns, and the index (order that graph is)\n",
    "plt.plot(f, '--o')  #plot dashed lines with our points \n",
    "plt.title(\"Plot of $f$\")  #title\n",
    "\n",
    "plt.subplot(1, 2, 2)  \n",
    "plt.step(difs, '--o', where = 'post')\n",
    "plt.title(\"Plot of differences $v$\") "
   ]
  },
  {
   "cell_type": "code",
   "execution_count": 496,
   "metadata": {},
   "outputs": [
    {
     "data": {
      "text/plain": [
       "<matplotlib.legend.Legend at 0x1a275a1be0>"
      ]
     },
     "execution_count": 496,
     "metadata": {},
     "output_type": "execute_result"
    },
    {
     "data": {
      "image/png": "[encoded data removed]",
      "text/plain": [
       "<matplotlib.figure.Figure at 0x1a274eccc0>"
      ]
     },
     "metadata": {},
     "output_type": "display_data"
    }
   ],
   "source": [
    "f = [0, 1, 4, 9, 16]\n",
    "difs = np.diff(f)\n",
    "\n",
    "plt.figure(figsize = (11, 5))\n",
    "plt.subplot(1, 2, 1)\n",
    "plt.plot(f, '--o', label = f)\n",
    "plt.title(\"Plot of $f$\")\n",
    "plt.legend(loc = 'best', frameon = False)\n",
    "\n",
    "\n",
    "plt.subplot(1, 2, 2)\n",
    "plt.step(difs, '--o', where = 'post', label = difs)\n",
    "plt.title(\"Plot of differences $v$\")\n",
    "plt.legend(loc = 'best', frameon = False)\n",
    "\n",
    "\n"
   ]
  },
  {
   "cell_type": "code",
   "execution_count": 497,
   "metadata": {},
   "outputs": [
    {
     "data": {
      "text/plain": [
       "<matplotlib.legend.Legend at 0x1a27694518>"
      ]
     },
     "execution_count": 497,
     "metadata": {},
     "output_type": "execute_result"
    },
    {
     "data": {
      "image/png": "[encoded data removed]",
      "text/plain": [
       "<matplotlib.figure.Figure at 0x1a275c1518>"
      ]
     },
     "metadata": {},
     "output_type": "display_data"
    }
   ],
   "source": [
    "f = [1, 2, 4, 8, 16, 32]  \n",
    "difs = np.diff(f)  # computes the differences\n",
    "\n",
    "plt.figure(figsize = (11, 5))\n",
    "plt.subplot(1, 2, 1)\n",
    "plt.plot(f, '--o', label = f)\n",
    "plt.title(\"Plot of $f$\")\n",
    "plt.legend(loc = 'best', frameon = False)\n",
    "\n",
    "\n",
    "plt.subplot(1, 2, 2)\n",
    "plt.step(np.arange(len(difs)), '--o', where = 'post', label = difs)\n",
    "plt.title(\"Plot of differences $v$\")\n",
    "plt.legend(loc = 'best', frameon = False)\n",
    "\n",
    "\n"
   ]
  },
  {
   "cell_type": "markdown",
   "metadata": {},
   "source": [
    "\n",
    " "
   ]
  },
  {
   "cell_type": "markdown",
   "metadata": {},
   "source": [
    "# Connections to Slope\n",
    "\n",
    "Recall from high school algebra, the notion of slope as rate of change.  If we have two points $(0, 0)$ and $(2, 3)$ and a line between them, we measure the slope of this line as the ratio of change in the vertical direction to that of change in the horizontal direction or:\n",
    "\n",
    "$$\\text{slope} = \\frac{\\text{change in } y}{\\text{change in } x} = \\frac{\\Delta y}{\\Delta x}$$\n",
    "\n",
    "You can verify that the plots on the right side of the figures represent the slope of the line on the left side of the plot.  We have also generated plots where the distance between points is a single unit, and can imagine that we would want to move to the the continuous analogies to our sequences above.  Let's start by making plots of twice as many points on the same domains for linear, quadratic, and exponential."
   ]
  },
  {
   "cell_type": "code",
   "execution_count": 498,
   "metadata": {
    "collapsed": true
   },
   "outputs": [],
   "source": [
    "f = [i for i in np.arange(0, 5.5, 0.5)]  # list from 0 to 5 counting by 5's"
   ]
  },
  {
   "cell_type": "code",
   "execution_count": 499,
   "metadata": {},
   "outputs": [
    {
     "data": {
      "text/plain": [
       "[0.0, 0.5, 1.0, 1.5, 2.0, 2.5, 3.0, 3.5, 4.0, 4.5, 5.0]"
      ]
     },
     "execution_count": 499,
     "metadata": {},
     "output_type": "execute_result"
    }
   ],
   "source": [
    "f"
   ]
  },
  {
   "cell_type": "code",
   "execution_count": 500,
   "metadata": {},
   "outputs": [
    {
     "data": {
      "text/plain": [
       "array([ 1.,  1.,  1.,  1.,  1.,  1.,  1.,  1.,  1.,  1.])"
      ]
     },
     "execution_count": 500,
     "metadata": {},
     "output_type": "execute_result"
    }
   ],
   "source": [
    "difs = np.diff(f)/0.5   #computes the differences between elements\n",
    "difs"
   ]
  },
  {
   "cell_type": "code",
   "execution_count": 501,
   "metadata": {},
   "outputs": [
    {
     "data": {
      "text/plain": [
       "array([ 2.,  2.,  2.,  2.,  2.,  2.,  2.,  2.,  2.,  2.])"
      ]
     },
     "execution_count": 501,
     "metadata": {},
     "output_type": "execute_result"
    }
   ],
   "source": [
    "difs/0.5"
   ]
  },
  {
   "cell_type": "code",
   "execution_count": 502,
   "metadata": {},
   "outputs": [
    {
     "data": {
      "text/plain": [
       "<matplotlib.legend.Legend at 0x1a27785b38>"
      ]
     },
     "execution_count": 502,
     "metadata": {},
     "output_type": "execute_result"
    },
    {
     "data": {
      "image/png": "[encoded data removed]",
      "text/plain": [
       "<matplotlib.figure.Figure at 0x1a276df080>"
      ]
     },
     "metadata": {},
     "output_type": "display_data"
    }
   ],
   "source": [
    "plt.figure(figsize = (11, 5))\n",
    "plt.subplot(1, 2, 1)\n",
    "plt.plot(f, '--o', label = f[0:3])\n",
    "plt.axhline(color = 'black')\n",
    "plt.title(\"Plot of $f$\")\n",
    "plt.legend(loc = 'best', frameon = False)\n",
    "\n",
    "\n",
    "plt.subplot(1, 2, 2)\n",
    "plt.step( difs, '--o', where = 'post', label = difs[0:3])\n",
    "plt.title(\"Plot of differences $v$\")\n",
    "plt.legend(loc = 'best', frameon = False)"
   ]
  },
  {
   "cell_type": "code",
   "execution_count": 503,
   "metadata": {},
   "outputs": [
    {
     "data": {
      "text/plain": [
       "[0.0, 0.25, 1.0, 2.25, 4.0, 6.25, 9.0, 12.25, 16.0, 20.25, 25.0]"
      ]
     },
     "execution_count": 503,
     "metadata": {},
     "output_type": "execute_result"
    }
   ],
   "source": [
    "f = [i**2 for i in np.arange(0, 5.5, 0.5)]\n",
    "f"
   ]
  },
  {
   "cell_type": "code",
   "execution_count": 504,
   "metadata": {},
   "outputs": [
    {
     "data": {
      "text/plain": [
       "array([ 0.5,  1.5,  2.5,  3.5,  4.5,  5.5,  6.5,  7.5,  8.5,  9.5])"
      ]
     },
     "execution_count": 504,
     "metadata": {},
     "output_type": "execute_result"
    }
   ],
   "source": [
    "difs = np.diff(f)/0.5\n",
    "difs"
   ]
  },
  {
   "cell_type": "code",
   "execution_count": 505,
   "metadata": {},
   "outputs": [
    {
     "data": {
      "text/plain": [
       "<matplotlib.legend.Legend at 0x1a27844a58>"
      ]
     },
     "execution_count": 505,
     "metadata": {},
     "output_type": "execute_result"
    },
    {
     "data": {
      "image/png": "[encoded data removed]",
      "text/plain": [
       "<matplotlib.figure.Figure at 0x1a2778fb70>"
      ]
     },
     "metadata": {},
     "output_type": "display_data"
    }
   ],
   "source": [
    "plt.figure(figsize = (11, 5))\n",
    "plt.subplot(1, 2, 1)\n",
    "plt.plot(f, '--o', label = f[0:3])\n",
    "plt.title(\"Plot of $f$\")\n",
    "plt.legend(loc = 'best', frameon = False)\n",
    "\n",
    "\n",
    "plt.subplot(1, 2, 2)\n",
    "plt.step( difs, '--o', where = 'post', label = difs[0:3])\n",
    "plt.title(\"Plot of differences $v$\")\n",
    "plt.legend(loc = 'best', frameon = False)"
   ]
  },
  {
   "cell_type": "code",
   "execution_count": 506,
   "metadata": {
    "collapsed": true
   },
   "outputs": [],
   "source": [
    "f = [2**i for i in np.arange(0, 5.5, 0.5)]\n",
    "\n",
    "difs = np.diff(f)/0.5\n"
   ]
  },
  {
   "cell_type": "code",
   "execution_count": 507,
   "metadata": {},
   "outputs": [
    {
     "data": {
      "text/plain": [
       "[1.0,\n",
       " 1.4142135623730951,\n",
       " 2.0,\n",
       " 2.8284271247461903,\n",
       " 4.0,\n",
       " 5.6568542494923806,\n",
       " 8.0,\n",
       " 11.313708498984761,\n",
       " 16.0,\n",
       " 22.627416997969522,\n",
       " 32.0]"
      ]
     },
     "execution_count": 507,
     "metadata": {},
     "output_type": "execute_result"
    }
   ],
   "source": [
    "f"
   ]
  },
  {
   "cell_type": "code",
   "execution_count": 508,
   "metadata": {},
   "outputs": [
    {
     "data": {
      "text/plain": [
       "array([  0.82842712,   1.17157288,   1.65685425,   2.34314575,\n",
       "         3.3137085 ,   4.6862915 ,   6.627417  ,   9.372583  ,\n",
       "        13.254834  ,  18.745166  ])"
      ]
     },
     "execution_count": 508,
     "metadata": {},
     "output_type": "execute_result"
    }
   ],
   "source": [
    "difs"
   ]
  },
  {
   "cell_type": "code",
   "execution_count": 509,
   "metadata": {},
   "outputs": [
    {
     "data": {
      "text/plain": [
       "<matplotlib.legend.Legend at 0x1a2791d3c8>"
      ]
     },
     "execution_count": 509,
     "metadata": {},
     "output_type": "execute_result"
    },
    {
     "data": {
      "image/png": "[encoded data removed]",
      "text/plain": [
       "<matplotlib.figure.Figure at 0x1a278915c0>"
      ]
     },
     "metadata": {},
     "output_type": "display_data"
    }
   ],
   "source": [
    "plt.figure(figsize = (11, 5))\n",
    "plt.subplot(1, 2, 1)\n",
    "plt.plot(f, '--o', label = f[0:3])\n",
    "plt.title(\"Plot of $f$\")\n",
    "plt.legend(loc = 'best', frameon = False)\n",
    "\n",
    "\n",
    "plt.subplot(1, 2, 2)\n",
    "plt.step(difs, '--o', where = 'post', label = difs[0:3])\n",
    "plt.title(\"Plot of differences $v$\")\n",
    "plt.legend(loc = 'best', frameon = False)"
   ]
  },
  {
   "cell_type": "markdown",
   "metadata": {},
   "source": [
    "## Adding Many Points\n",
    "\n",
    "We recognize the sequences in closed form for linear, quadratic, and exponential functions here.  Remember however, that when we were plotting these functions, we were really just using a large number of points to plug into our function.  This means we can still use the plotting instructions from above.  \n",
    "\n",
    "One difference is that we will need to compute the width of the intervals based on how many points we are using.  For example, if we use 1000 points on the interval [0, 5], the intervals are each \n",
    "\n",
    "$$\\frac{5}{1000} = \\frac{1}{200}$$.  \n",
    "\n",
    "We can divide the entire list of differences by this with the division operation, and we will have our differences to plot.  In general, for any interval $[a, b]$ with $n$ subdivisions, we will have\n",
    "\n",
    "$$\\Delta x = \\frac{b-a}{n}$$"
   ]
  },
  {
   "cell_type": "code",
   "execution_count": 510,
   "metadata": {},
   "outputs": [
    {
     "data": {
      "text/plain": [
       "Text(0.5,1,'Plot of differences $v$')"
      ]
     },
     "execution_count": 510,
     "metadata": {},
     "output_type": "execute_result"
    },
    {
     "data": {
      "image/png": "[encoded data removed]",
      "text/plain": [
       "<matplotlib.figure.Figure at 0x1a27a7d6a0>"
      ]
     },
     "metadata": {},
     "output_type": "display_data"
    }
   ],
   "source": [
    "def f(x):\n",
    "    return x\n",
    "\n",
    "a = 0\n",
    "b = 5\n",
    "n = 100\n",
    "w = (b - a)/n\n",
    "\n",
    "x = np.linspace(a, b, n)\n",
    "f = f(x)\n",
    "difs = np.diff(f)/w\n",
    "\n",
    "plt.figure(figsize = (11, 5))\n",
    "plt.subplot(1, 2, 1)\n",
    "plt.plot(f, '--o')\n",
    "plt.title(\"Plot of $f$\")\n",
    "\n",
    "\n",
    "\n",
    "plt.subplot(1, 2, 2)\n",
    "plt.step(difs, '--o', where = 'post')\n",
    "plt.title(\"Plot of differences $v$\")"
   ]
  },
  {
   "cell_type": "code",
   "execution_count": 511,
   "metadata": {
    "collapsed": true
   },
   "outputs": [],
   "source": [
    "def f(x):\n",
    "    return x**2\n",
    "\n",
    "a = 0\n",
    "b = 5\n",
    "n = 1000\n",
    "w = (b - a)/n\n",
    "\n",
    "x = np.linspace(a, b, n)\n",
    "f = f(x)"
   ]
  },
  {
   "cell_type": "code",
   "execution_count": 512,
   "metadata": {
    "collapsed": true
   },
   "outputs": [],
   "source": [
    "difs = np.diff(f)/w"
   ]
  },
  {
   "cell_type": "code",
   "execution_count": 513,
   "metadata": {},
   "outputs": [
    {
     "data": {
      "text/plain": [
       "Text(0.5,1,'Plot of differences $v$')"
      ]
     },
     "execution_count": 513,
     "metadata": {},
     "output_type": "execute_result"
    },
    {
     "data": {
      "image/png": "[encoded data removed]",
      "text/plain": [
       "<matplotlib.figure.Figure at 0x1a27c006d8>"
      ]
     },
     "metadata": {},
     "output_type": "display_data"
    }
   ],
   "source": [
    "plt.figure(figsize = (11, 5))\n",
    "plt.subplot(1, 2, 1)\n",
    "plt.plot(f, '--o')\n",
    "plt.title(\"Plot of $f$\")\n",
    "\n",
    "\n",
    "\n",
    "plt.subplot(1, 2, 2)\n",
    "plt.step(difs, '--o', where = 'post')\n",
    "plt.title(\"Plot of differences $v$\")"
   ]
  },
  {
   "cell_type": "code",
   "execution_count": 514,
   "metadata": {},
   "outputs": [
    {
     "data": {
      "text/plain": [
       "Text(0.5,1,'Plot of differences $v$')"
      ]
     },
     "execution_count": 514,
     "metadata": {},
     "output_type": "execute_result"
    },
    {
     "data": {
      "image/png": "[encoded data removed]",
      "text/plain": [
       "<matplotlib.figure.Figure at 0x1a27ea83c8>"
      ]
     },
     "metadata": {},
     "output_type": "display_data"
    }
   ],
   "source": [
    "def f(x):\n",
    "    return 2**x\n",
    "\n",
    "a = 0\n",
    "b = 5\n",
    "n = 1000\n",
    "w = (b - a)/n\n",
    "\n",
    "x = np.linspace(a, b, n)\n",
    "f = f(x)\n",
    "difs = np.diff(f)/w\n",
    "\n",
    "plt.figure(figsize = (11, 5))\n",
    "plt.subplot(1, 2, 1)\n",
    "plt.plot(f, '--o')\n",
    "plt.title(\"Plot of $f$\")\n",
    "\n",
    "\n",
    "\n",
    "plt.subplot(1, 2, 2)\n",
    "plt.step(difs, '--o', where = 'post')\n",
    "plt.title(\"Plot of differences $v$\")"
   ]
  },
  {
   "cell_type": "markdown",
   "metadata": {},
   "source": [
    "\n"
   ]
  },
  {
   "cell_type": "markdown",
   "metadata": {},
   "source": [
    "We were investigating the connection between a sequence of values and smaller and smaller intervals for differences between these terms.  Now, we will investigate some formal definitions for this operation of successively smaller differences as a **Derivative**.  The big idea is that we have a function $f$, we can define it's derivative as:\n",
    "\n",
    "$$f'(x) =  \\frac{f(x + \\Delta x) - f(x)}{\\Delta x}$$\n",
    "\n",
    "When we added more and more points we were making $\\Delta x$ smaller\n",
    "\n",
    "We can interpret the derivative in a few ways.  As we started looking at the difference between terms, we can consider the derivative as a measure of the **rate of change** of some sequence of numbers.\n",
    "\n",
    "Similarly, if we have a closed form sequence rather than a sequence we can regard the derivative as a function that represents the **rate of change** of our original function."
   ]
  },
  {
   "cell_type": "markdown",
   "metadata": {},
   "source": [
    "## Derivative as Function with Python\n",
    "\n",
    "First, we can investigate the derivative of a function using Sympy's `diff` function.  If we enter a symbolic expression $f$ in terms of some variable $x$, we will be able to get the derivative of this expression with `sy.diff(f, x)`.  A simple example follows."
   ]
  },
  {
   "cell_type": "code",
   "execution_count": 515,
   "metadata": {},
   "outputs": [
    {
     "data": {
      "text/plain": [
       "2*x - 2"
      ]
     },
     "execution_count": 515,
     "metadata": {},
     "output_type": "execute_result"
    }
   ],
   "source": [
    "x = sy.Symbol('x')  #defines x as a symbol\n",
    "f = x**2 - 2*x + 1  # defines f as this function \n",
    "sy.diff(f, x)          #takes the derivative of f with respect to x"
   ]
  },
  {
   "cell_type": "code",
   "execution_count": 516,
   "metadata": {},
   "outputs": [
    {
     "data": {
      "text/plain": [
       "2"
      ]
     },
     "execution_count": 516,
     "metadata": {},
     "output_type": "execute_result"
    }
   ],
   "source": [
    "sy.diff(f, x, 2)     #take the derivative of f with respect to x and then evaluates at 2"
   ]
  },
  {
   "cell_type": "markdown",
   "metadata": {},
   "source": [
    "Similarly, we can define a function that is a good approximation for the derivative by assigning a very small change $dx$.  For example, we define the function above in our familiar fashion, and use the definition above for a derivative function `df`. "
   ]
  },
  {
   "cell_type": "code",
   "execution_count": 517,
   "metadata": {
    "collapsed": true
   },
   "outputs": [],
   "source": [
    "def f(x):\n",
    "    return x**2 - 2*x + 1"
   ]
  },
  {
   "cell_type": "code",
   "execution_count": 518,
   "metadata": {
    "collapsed": true
   },
   "outputs": [],
   "source": [
    "def df(x):\n",
    "    h = 0.000001\n",
    "    return (f(x + h) - f(x))/h"
   ]
  },
  {
   "cell_type": "markdown",
   "metadata": {},
   "source": [
    "The Definition of the derivative :\n",
    "\n",
    "$$f'(x) = \\lim_{h \\to 0} \\frac{f(x+h)-f(x)}{h}$$\n",
    "\n",
    "\n",
    "So as h gets smaller and smaller and goes to 0.  The *dx* is a very small change. \n",
    "\n",
    "\n",
    "\n",
    "\n"
   ]
  },
  {
   "cell_type": "code",
   "execution_count": 519,
   "metadata": {},
   "outputs": [
    {
     "data": {
      "text/plain": [
       "Text(0.5,1,'Function and its Derivative')"
      ]
     },
     "execution_count": 519,
     "metadata": {},
     "output_type": "execute_result"
    },
    {
     "data": {
      "image/png": "[encoded data removed]",
      "text/plain": [
       "<matplotlib.figure.Figure at 0x1a28298668>"
      ]
     },
     "metadata": {},
     "output_type": "display_data"
    }
   ],
   "source": [
    "x = np.linspace(-4, 4, 1000)\n",
    "plt.plot(x, f(x), label = '$f(x)$')\n",
    "plt.plot(x, df(x), label = '$f\\'(x)$')\n",
    "plt.axhline(color = 'black')\n",
    "plt.axvline(color = 'black')\n",
    "plt.legend(loc = 'best', frameon = False)\n",
    "plt.title(\"Function and its Derivative\")"
   ]
  },
  {
   "cell_type": "code",
   "execution_count": 520,
   "metadata": {
    "collapsed": true
   },
   "outputs": [],
   "source": [
    "def f(x):\n",
    "    return (x -2)*(x -1) * (x + 1)*(x + 3)*(x +5)"
   ]
  },
  {
   "cell_type": "code",
   "execution_count": 521,
   "metadata": {},
   "outputs": [
    {
     "data": {
      "text/plain": [
       "Text(0.5,1,'Another function and its Derivative')"
      ]
     },
     "execution_count": 521,
     "metadata": {},
     "output_type": "execute_result"
    },
    {
     "data": {
      "image/png": "[encoded data removed]",
      "text/plain": [
       "<matplotlib.figure.Figure at 0x1a27c26b38>"
      ]
     },
     "metadata": {},
     "output_type": "display_data"
    }
   ],
   "source": [
    "x = np.linspace(-5, 2, 1000)\n",
    "plt.plot(x, f(x), label = '$f(x)$')\n",
    "plt.plot(x, df(x), label = '$f\\'(x)$')\n",
    "plt.axhline(color = 'black')\n",
    "plt.axvline(color = 'black')\n",
    "plt.legend(frameon = False)\n",
    "plt.title(\"Another function and its Derivative\")"
   ]
  },
  {
   "cell_type": "markdown",
   "metadata": {},
   "source": [
    "We can glean important information from the plot of the derivative about the behavior of the function we are investigating, particularly the maximum and minimum values.  Perhaps we would only have the plot of the derivative, can you tell where the max and min values occur?"
   ]
  },
  {
   "cell_type": "code",
   "execution_count": 522,
   "metadata": {},
   "outputs": [
    {
     "data": {
      "text/plain": [
       "Text(0.5,1,'Just the Derivative')"
      ]
     },
     "execution_count": 522,
     "metadata": {},
     "output_type": "execute_result"
    },
    {
     "data": {
      "image/png": "[encoded data removed]",
      "text/plain": [
       "<matplotlib.figure.Figure at 0x1a2844e2b0>"
      ]
     },
     "metadata": {},
     "output_type": "display_data"
    }
   ],
   "source": [
    "x = np.linspace(-5, 2, 1000)\n",
    "plt.plot(x, df(x), label = '$f\\'(x)$')\n",
    "plt.axhline(color = 'black')\n",
    "plt.axvline(color = 'black')\n",
    "plt.legend(frameon = False)\n",
    "plt.title(\"Just the Derivative\")"
   ]
  },
  {
   "cell_type": "markdown",
   "metadata": {},
   "source": [
    "That's ok if you can't, that's where we are going and will be investigated in future labs. "
   ]
  },
  {
   "cell_type": "code",
   "execution_count": 523,
   "metadata": {},
   "outputs": [
    {
     "data": {
      "text/plain": [
       "5*x**4 + 24*x**3 - 6*x**2 - 72*x + 1"
      ]
     },
     "execution_count": 523,
     "metadata": {},
     "output_type": "execute_result"
    }
   ],
   "source": [
    "x = sy.Symbol('x')\n",
    "df = sy.diff(f(x), x)\n",
    "df = sy.expand(df)\n",
    "df"
   ]
  },
  {
   "cell_type": "markdown",
   "metadata": {},
   "source": [
    "# Derivative as Tangent Line\n",
    "\n",
    "We can also interpret the derivative as the slope of a tangent line, or better yet an approximation for this tangent line.  For example, the derivative at some point $a$ can be thought of as the slope of the line through $a$ and some other point $a + \\Delta x$ where $\\Delta x$ is very small. \n",
    "\n",
    "Again, we would have something like:\n",
    "\n",
    "$$f'(a) = \\frac{f(a + \\Delta x) - f(a)}{\\Delta x}$$\n",
    "\n",
    "for some arbitrarily small value of $\\Delta x$.  We can also understand the expression above as providing us a means of approximating values close to $x = a$ using the tangent line.  If we rearrange terms, notice:\n",
    "\n",
    "$$f(a + \\Delta x) = f'(a)\\Delta x + f(a)$$\n",
    "\n",
    "What this does, is tells us the slope of the line tangent to the graph at the point $(a, f(a))$.  Suppose we have the function $f(x) = x^2$, and we want to know the slope of the tangent line at $x = 2$.  We can define a function as usual, and a function for the derivative.  We can use these to write an equation of the line tangent to the graph of the function at this point.  "
   ]
  },
  {
   "cell_type": "code",
   "execution_count": 524,
   "metadata": {
    "collapsed": true
   },
   "outputs": [],
   "source": [
    "def f(x):\n",
    "    return x**2\n",
    "\n",
    "def df(x):  # this is estimating the derivative by making h get close to zero\n",
    "    h = 0.00001\n",
    "    return (f(x + h) - f(x))/h   "
   ]
  },
  {
   "cell_type": "code",
   "execution_count": 525,
   "metadata": {},
   "outputs": [
    {
     "data": {
      "text/plain": [
       "4.000010000027032"
      ]
     },
     "execution_count": 525,
     "metadata": {},
     "output_type": "execute_result"
    }
   ],
   "source": [
    "df(2)   #evaluate the derivative at 2"
   ]
  },
  {
   "cell_type": "markdown",
   "metadata": {},
   "source": [
    "## This is important because we just determined that the slope of the tangent line for this function at 2 was 4.  So thinking y=mx+b (the equation of a line) the m=4."
   ]
  },
  {
   "cell_type": "code",
   "execution_count": 526,
   "metadata": {
    "collapsed": true
   },
   "outputs": [],
   "source": [
    "def tan_plot(a):\n",
    "    x = np.linspace((a-4), (a+4), 1000)\n",
    "    y = df(a)*(x - a) + f(a)\n",
    "    plt.plot(x, f(x))  #plots x v. f(x)\n",
    "    plt.plot(a, f(a), 'o', markersize = 10)  #plots the point at a, which we defined to be 2, and f evaluated at a\n",
    "    plt.plot(x, y, '--k')  #plots the tangent line \n",
    "    plt.axhline(color = 'black')\n",
    "    plt.axvline(color = 'black')"
   ]
  },
  {
   "cell_type": "code",
   "execution_count": 527,
   "metadata": {},
   "outputs": [
    {
     "data": {
      "image/png": "[encoded data removed]",
      "text/plain": [
       "<matplotlib.figure.Figure at 0x1a2855f828>"
      ]
     },
     "metadata": {},
     "output_type": "display_data"
    }
   ],
   "source": [
    "tan_plot(2)"
   ]
  },
  {
   "cell_type": "code",
   "execution_count": 528,
   "metadata": {
    "collapsed": true
   },
   "outputs": [],
   "source": [
    "def g(x):\n",
    "    return x*(x+2)*(x - 3)\n",
    "\n",
    "def dg(x):\n",
    "    h = 0.000001\n",
    "    return ((g(x+h)-g(x))/h)"
   ]
  },
  {
   "cell_type": "code",
   "execution_count": 529,
   "metadata": {},
   "outputs": [
    {
     "data": {
      "text/plain": [
       "<matplotlib.lines.Line2D at 0x1a286243c8>"
      ]
     },
     "execution_count": 529,
     "metadata": {},
     "output_type": "execute_result"
    },
    {
     "data": {
      "image/png": "[encoded data removed]",
      "text/plain": [
       "<matplotlib.figure.Figure at 0x1a28597b00>"
      ]
     },
     "metadata": {},
     "output_type": "display_data"
    }
   ],
   "source": [
    "x = np.linspace(-3, 4, 1000)\n",
    "plt.plot(x, g(x))\n",
    "plt.plot(x,dg(x))\n",
    "plt.axhline(color = 'black')\n",
    "plt.axvline(color = 'black')"
   ]
  },
  {
   "cell_type": "code",
   "execution_count": 530,
   "metadata": {
    "collapsed": true
   },
   "outputs": [],
   "source": [
    "x = sy.Symbol('x')\n",
    "df = sy.diff(g(x), x)\n",
    "df = sy.simplify(df)\n",
    "a, b = sy.solve(df, x)"
   ]
  },
  {
   "cell_type": "code",
   "execution_count": 531,
   "metadata": {},
   "outputs": [
    {
     "data": {
      "text/plain": [
       "(1/3 + sqrt(19)/3, -sqrt(19)/3 + 1/3)"
      ]
     },
     "execution_count": 531,
     "metadata": {},
     "output_type": "execute_result"
    }
   ],
   "source": [
    "a, b"
   ]
  },
  {
   "cell_type": "code",
   "execution_count": 532,
   "metadata": {},
   "outputs": [
    {
     "data": {
      "text/plain": [
       "[<matplotlib.lines.Line2D at 0x1a27a85ac8>]"
      ]
     },
     "execution_count": 532,
     "metadata": {},
     "output_type": "execute_result"
    },
    {
     "data": {
      "image/png": "[encoded data removed]",
      "text/plain": [
       "<matplotlib.figure.Figure at 0x1a28581b38>"
      ]
     },
     "metadata": {},
     "output_type": "display_data"
    }
   ],
   "source": [
    "x = np.linspace(-3, 4, 1000)\n",
    "plt.plot(x, g(x))\n",
    "plt.axhline(color = 'black')\n",
    "plt.axvline(color = 'black')\n",
    "plt.plot(a, g(a), 'o')\n",
    "plt.plot(b, g(b), 'o')"
   ]
  },
  {
   "cell_type": "code",
   "execution_count": 533,
   "metadata": {
    "collapsed": true
   },
   "outputs": [],
   "source": [
    "def tan_plot(a, b):\n",
    "    x = np.linspace(-5,5, 1000)\n",
    "    y1 = dg(a)*(x - a) + g(a)\n",
    "    y2 = dg(b)*(x - b) + g(b)\n",
    "    plt.plot(x, g(x))\n",
    "    plt.plot(a, g(a), 'o', markersize = 10)\n",
    "    plt.plot(b, g(b), 'o', markersize = 10)\n",
    "    plt.plot(x, y1, '--k')\n",
    "    plt.plot(x, y2, '--k')\n",
    "    plt.ylim(-15, 15)\n",
    "    plt.xlim(-4,4)\n",
    "    plt.axhline(color = 'black')\n",
    "    plt.axvline(color = 'black')"
   ]
  },
  {
   "cell_type": "code",
   "execution_count": 534,
   "metadata": {},
   "outputs": [
    {
     "data": {
      "image/png": "[encoded data removed]",
      "text/plain": [
       "<matplotlib.figure.Figure at 0x1a27e517b8>"
      ]
     },
     "metadata": {},
     "output_type": "display_data"
    }
   ],
   "source": [
    "tan_plot(a, b)"
   ]
  },
  {
   "cell_type": "markdown",
   "metadata": {},
   "source": [
    "This will lead us somewhere important next lab."
   ]
  },
  {
   "cell_type": "markdown",
   "metadata": {},
   "source": [
    "Reminder: The Definition of the derivative \n",
    "\n",
    "$$f'(x) = \\lim_{h \\to 0} \\frac{f(x+h)-f(x)}{h}$$\n",
    "\n"
   ]
  },
  {
   "cell_type": "markdown",
   "metadata": {
    "collapsed": true
   },
   "source": [
    "# Finding Derivatives\n",
    "If we know the function how can we figure out what the derivaitve of that function is?  Later we will need to be using derivatives for applications, so we need to figure out how to find the derivative. \n",
    "Let's look at several examples:"
   ]
  },
  {
   "cell_type": "code",
   "execution_count": 535,
   "metadata": {
    "collapsed": true
   },
   "outputs": [],
   "source": [
    "x=sy.Symbol('x')\n",
    "def f(x):\n",
    "    return x\n"
   ]
  },
  {
   "cell_type": "code",
   "execution_count": 536,
   "metadata": {},
   "outputs": [
    {
     "data": {
      "text/plain": [
       "1"
      ]
     },
     "execution_count": 536,
     "metadata": {},
     "output_type": "execute_result"
    }
   ],
   "source": [
    "sy.diff(f(x),x)"
   ]
  },
  {
   "cell_type": "code",
   "execution_count": 537,
   "metadata": {
    "collapsed": true
   },
   "outputs": [],
   "source": [
    "def g(x):\n",
    "    return 2*x"
   ]
  },
  {
   "cell_type": "code",
   "execution_count": 538,
   "metadata": {},
   "outputs": [
    {
     "data": {
      "text/plain": [
       "2"
      ]
     },
     "execution_count": 538,
     "metadata": {},
     "output_type": "execute_result"
    }
   ],
   "source": [
    "sy.diff(g(x),x)"
   ]
  },
  {
   "cell_type": "code",
   "execution_count": 539,
   "metadata": {
    "collapsed": true
   },
   "outputs": [],
   "source": [
    "def h(x): \n",
    "    return 3*x+7"
   ]
  },
  {
   "cell_type": "code",
   "execution_count": 540,
   "metadata": {},
   "outputs": [
    {
     "data": {
      "text/plain": [
       "3"
      ]
     },
     "execution_count": 540,
     "metadata": {},
     "output_type": "execute_result"
    }
   ],
   "source": [
    "sy.diff(h(x),x)"
   ]
  },
  {
   "cell_type": "markdown",
   "metadata": {},
   "source": [
    "These were all linear functions.  What were their derivaitves?"
   ]
  },
  {
   "cell_type": "code",
   "execution_count": 541,
   "metadata": {
    "collapsed": true
   },
   "outputs": [],
   "source": [
    "def a(x):\n",
    "    return 1\n",
    "\n",
    "    \n",
    "def b(x):\n",
    "    return x\n",
    "    \n",
    "def c(x):\n",
    "    return x**2\n",
    "\n",
    "def d(x):\n",
    "    return x**3\n",
    "\n",
    "def f(x):\n",
    "    return x**4\n"
   ]
  },
  {
   "cell_type": "code",
   "execution_count": 542,
   "metadata": {},
   "outputs": [
    {
     "data": {
      "text/plain": [
       "0"
      ]
     },
     "execution_count": 542,
     "metadata": {},
     "output_type": "execute_result"
    }
   ],
   "source": [
    "sy.diff(a(x),x)\n"
   ]
  },
  {
   "cell_type": "code",
   "execution_count": 543,
   "metadata": {},
   "outputs": [
    {
     "data": {
      "text/plain": [
       "1"
      ]
     },
     "execution_count": 543,
     "metadata": {},
     "output_type": "execute_result"
    }
   ],
   "source": [
    "sy.diff(b(x),x)"
   ]
  },
  {
   "cell_type": "code",
   "execution_count": 544,
   "metadata": {},
   "outputs": [
    {
     "data": {
      "text/plain": [
       "2*x"
      ]
     },
     "execution_count": 544,
     "metadata": {},
     "output_type": "execute_result"
    }
   ],
   "source": [
    "sy.diff(c(x),x)"
   ]
  },
  {
   "cell_type": "code",
   "execution_count": 545,
   "metadata": {},
   "outputs": [
    {
     "data": {
      "text/plain": [
       "3*x**2"
      ]
     },
     "execution_count": 545,
     "metadata": {},
     "output_type": "execute_result"
    }
   ],
   "source": [
    "sy.diff(d(x),x)"
   ]
  },
  {
   "cell_type": "code",
   "execution_count": 546,
   "metadata": {},
   "outputs": [
    {
     "data": {
      "text/plain": [
       "4*x**3"
      ]
     },
     "execution_count": 546,
     "metadata": {},
     "output_type": "execute_result"
    }
   ],
   "source": [
    "sy.diff(f(x),x)"
   ]
  },
  {
   "cell_type": "markdown",
   "metadata": {},
   "source": [
    "Noting this pattern what do you think the derivative of $x^5$ is?\n",
    "\n",
    "What is the rule for this?\n",
    "\n",
    "**The Power Rule** :\n",
    "\n",
    "\n",
    "\n",
    "\n"
   ]
  },
  {
   "cell_type": "markdown",
   "metadata": {},
   "source": [
    "Now let's take a look at multiplication"
   ]
  },
  {
   "cell_type": "code",
   "execution_count": 547,
   "metadata": {
    "collapsed": true
   },
   "outputs": [],
   "source": [
    "def f(x):\n",
    "    return (2*x+1)*(3*x+4)"
   ]
  },
  {
   "cell_type": "code",
   "execution_count": 548,
   "metadata": {},
   "outputs": [
    {
     "data": {
      "text/plain": [
       "12*x + 11"
      ]
     },
     "execution_count": 548,
     "metadata": {},
     "output_type": "execute_result"
    }
   ],
   "source": [
    "sy.diff(f(x),x)\n"
   ]
  },
  {
   "cell_type": "code",
   "execution_count": 549,
   "metadata": {
    "collapsed": true
   },
   "outputs": [],
   "source": [
    "def f(x):\n",
    "    return (x**2+3*x+1)*(x**3+4)"
   ]
  },
  {
   "cell_type": "code",
   "execution_count": 550,
   "metadata": {},
   "outputs": [
    {
     "data": {
      "text/plain": [
       "3*x**2*(x**2 + 3*x + 1) + (2*x + 3)*(x**3 + 4)"
      ]
     },
     "execution_count": 550,
     "metadata": {},
     "output_type": "execute_result"
    }
   ],
   "source": [
    "d1=sy.diff(f(x),x)\n",
    "d1"
   ]
  },
  {
   "cell_type": "markdown",
   "metadata": {},
   "source": [
    "What seemed to happen there?\n",
    "\n",
    "What's the rule for this?\n",
    "\n",
    "**The Product Rule**"
   ]
  },
  {
   "cell_type": "markdown",
   "metadata": {},
   "source": [
    "\n",
    "Now let's take a look at division."
   ]
  },
  {
   "cell_type": "code",
   "execution_count": 551,
   "metadata": {
    "collapsed": true
   },
   "outputs": [],
   "source": [
    "def f(x):\n",
    "    return (x**2+3*x+1)/(x**3+4)"
   ]
  },
  {
   "cell_type": "code",
   "execution_count": 552,
   "metadata": {},
   "outputs": [
    {
     "data": {
      "text/plain": [
       "-3*x**2*(x**2 + 3*x + 1)/(x**3 + 4)**2 + (2*x + 3)/(x**3 + 4)"
      ]
     },
     "execution_count": 552,
     "metadata": {},
     "output_type": "execute_result"
    }
   ],
   "source": [
    "d1=sy.diff(f(x),x)\n",
    "d1"
   ]
  },
  {
   "cell_type": "code",
   "execution_count": 553,
   "metadata": {},
   "outputs": [
    {
     "data": {
      "text/plain": [
       "(-3*x**2*(x**2 + 3*x + 1) + (2*x + 3)*(x**3 + 4))/(x**3 + 4)**2"
      ]
     },
     "execution_count": 553,
     "metadata": {},
     "output_type": "execute_result"
    }
   ],
   "source": [
    "sy.simplify(d1)"
   ]
  },
  {
   "cell_type": "markdown",
   "metadata": {},
   "source": [
    "Let's look at another division\n"
   ]
  },
  {
   "cell_type": "code",
   "execution_count": 554,
   "metadata": {
    "collapsed": true
   },
   "outputs": [],
   "source": [
    "def g(x):\n",
    "    return (x**5+x**3+4*x+2)/(x**10+4*x**3)"
   ]
  },
  {
   "cell_type": "code",
   "execution_count": 555,
   "metadata": {},
   "outputs": [
    {
     "data": {
      "text/plain": [
       "(-10*x**9 - 12*x**2)*(x**5 + x**3 + 4*x + 2)/(x**10 + 4*x**3)**2 + (5*x**4 + 3*x**2 + 4)/(x**10 + 4*x**3)"
      ]
     },
     "execution_count": 555,
     "metadata": {},
     "output_type": "execute_result"
    }
   ],
   "source": [
    "d3=sy.diff(g(x),x)\n",
    "d3"
   ]
  },
  {
   "cell_type": "code",
   "execution_count": 556,
   "metadata": {},
   "outputs": [
    {
     "data": {
      "text/plain": [
       "(-5*x**12 - 7*x**10 - 36*x**8 - 20*x**7 + 8*x**5 - 32*x - 24)/(x**4*(x**14 + 8*x**7 + 16))"
      ]
     },
     "execution_count": 556,
     "metadata": {},
     "output_type": "execute_result"
    }
   ],
   "source": [
    "sy.simplify(d3)"
   ]
  },
  {
   "cell_type": "markdown",
   "metadata": {},
   "source": [
    "What might have happened there?\n",
    "\n",
    "** The Quotient Rule** :\n",
    "\n"
   ]
  },
  {
   "cell_type": "markdown",
   "metadata": {},
   "source": [
    "Functions can be formed by combining other functions through famililar operations.  For example, we can consider the polynomial $h(x) = x^3 + x^2$ as formed by two simpler polynomials $f(x) = x^3$ and $g(x) = x^2$ combined through addition.  So far, we have not had to worry about this, as differentiation and integration are linear operators that work across addition and subtraction.\n",
    "\n",
    "If we instead have a function $h$ given by:\n",
    "\n",
    "$$h(x) = \\sqrt{x^3 + x^2}$$\n",
    "\n",
    "we may recognize the square root function and the polynomial inside of it.  This was not formed by addition, subtraction, multiplication, or division of simpler functions however.  Instead, we can understand the function $h$ as formed by **composing** two functions $f$ and $g$ where:\n",
    "\n",
    "$$h(x) = \\sqrt{x^3 + x^2} \\quad f(u) = \\sqrt(u) \\quad g(x) = x^3 + x^2$$\n",
    "\n",
    "The operation of composition means we apply the function $f$ to the function $g$.  We would write this as\n",
    "\n",
    "$$f(g(x)) = \\sqrt{(g(x))} = \\sqrt{x^3 + x^2}$$\n",
    "\n",
    "We can use SymPy to explore a few examples and determine a general rule for differentiating functions formed by compositions.  We begin with trying to generalize the situation above, where we compose some function $g$ into a function $f$ of the form\n",
    "\n",
    "$$f(x) = (g(x))^n$$\n",
    "\n",
    "It seems reasonable to expect that \n",
    "\n",
    "$$f'(x) = n(g(x))^{n-1}$$\n",
    "\n",
    "You need to adjust this statement to make it true.  Consider the following examples, use sympy to differentiate them and determine the remaining terms.\n",
    "\n",
    "1. $(x^2 - 3x)^2$\n",
    "\n",
    "2. $(x^2 - 3x)^3$\n",
    "\n",
    "3. $\\sqrt{x^2 - 3x}$"
   ]
  },
  {
   "cell_type": "code",
   "execution_count": 557,
   "metadata": {
    "collapsed": true
   },
   "outputs": [],
   "source": [
    "x = sy.Symbol('x')\n",
    "y1 = (x**2 - 3*x)**2\n",
    "y2 = (x**2 - 3*x)**3\n",
    "y3 = (x**2 - 3*x)**(1/2)"
   ]
  },
  {
   "cell_type": "code",
   "execution_count": 558,
   "metadata": {},
   "outputs": [
    {
     "data": {
      "text/plain": [
       "2*x*(x - 3)*(2*x - 3)"
      ]
     },
     "execution_count": 558,
     "metadata": {},
     "output_type": "execute_result"
    }
   ],
   "source": [
    "dy1 = sy.diff(y1, x)\n",
    "sy.factor(dy1)"
   ]
  },
  {
   "cell_type": "code",
   "execution_count": 559,
   "metadata": {},
   "outputs": [
    {
     "data": {
      "text/plain": [
       "3*x**2*(x - 3)**2*(2*x - 3)"
      ]
     },
     "execution_count": 559,
     "metadata": {},
     "output_type": "execute_result"
    }
   ],
   "source": [
    "dy2 = sy.diff(y2, x)\n",
    "sy.factor(dy2)"
   ]
  },
  {
   "cell_type": "code",
   "execution_count": 560,
   "metadata": {},
   "outputs": [
    {
     "data": {
      "text/plain": [
       "(1.0*x - 1.5)*(x**2 - 3*x)**(-0.5)"
      ]
     },
     "execution_count": 560,
     "metadata": {},
     "output_type": "execute_result"
    }
   ],
   "source": [
    "dy3 = sy.diff(y3, x)\n",
    "dy3"
   ]
  },
  {
   "cell_type": "markdown",
   "metadata": {},
   "source": [
    "What might that rule be?\n",
    "\n",
    "**The Chain Rule**:\n"
   ]
  },
  {
   "cell_type": "markdown",
   "metadata": {},
   "source": [
    "# For You To Do"
   ]
  },
  {
   "cell_type": "markdown",
   "metadata": {},
   "source": [
    "# NAME:   "
   ]
  },
  {
   "cell_type": "markdown",
   "metadata": {},
   "source": [
    "## 1. \n",
    "The total world-wide box office receipts for a long-running blockbuster moview are approximated by the function \n",
    "$$ T(x)=\\frac{120x^2}{x^2+4}$$ where $T(x)$ is meausred in millions of dollars and $x$ is the number of months since the movie's release. \n",
    "\n",
    "\n",
    "   (a) What are the total box office receipts after the first month?  The second month? The third month? (Use what we have learned in notebooks 1 and 2 to do this easily)\n",
    "           \n",
    "   (b)  What will the movie gross in the long run?  Interpret your results in words. "
   ]
  },
  {
   "cell_type": "code",
   "execution_count": null,
   "metadata": {
    "collapsed": true
   },
   "outputs": [],
   "source": []
  },
  {
   "cell_type": "code",
   "execution_count": null,
   "metadata": {
    "collapsed": true
   },
   "outputs": [],
   "source": []
  },
  {
   "cell_type": "markdown",
   "metadata": {},
   "source": [
    "## 2. \n",
    "Explore the other examples and see if you can investigate some connections between kinds of functions $f$, their  differences $v$, and then their differences adding many points.  Plot the function on one graph and plot the differences in another plot beside it.  Hint look in the connections to slope and adding more points section. \n",
    "\n",
    "    a.  f(x)=x^3\n",
    "    \n",
    "    b.  g(x)=e^x"
   ]
  },
  {
   "cell_type": "code",
   "execution_count": null,
   "metadata": {
    "collapsed": true
   },
   "outputs": [],
   "source": []
  },
  {
   "cell_type": "markdown",
   "metadata": {},
   "source": [
    "## 3. \n",
    "DJ's Tires has determined that the weekly demand for tires is given by $$p=f(x)=144-x^2$$ where $p$, the price per tire, measured in dollars and $x$ is measured in units of 1000.  \n",
    "\n",
    "   (a) Plot the demand function.  (I only want to see a plot with x values that make sense)  Label your plots and axes\n",
    "    \n",
    "   (b) Plot the differences of the demand function  \n",
    "    \n",
    "   (c) Find the average rate of change in the unit price of a tire if the quantity demanded is between 5000 and 6000 tires, 5000 and 5100 tires, and 5000 and 5010 tires. \n",
    "    \n",
    "   (d) What is the instantaneous rate of change of the unit price when the quantity demanded is 5000 units? Interpret your results in words. \n",
    "    "
   ]
  },
  {
   "cell_type": "code",
   "execution_count": null,
   "metadata": {
    "collapsed": true
   },
   "outputs": [],
   "source": []
  },
  {
   "cell_type": "markdown",
   "metadata": {},
   "source": [
    "## 4.\n",
    "A company's quarterly profit (in thousands of dollars) is given by $$ P(x)= \\frac{1}{3}x^2+7x+30$$ when $x$ is between 0 and 50 inclusive and $x$ is the amount of money spend on advertising per quarter in thousands of dollars.  Label your plots and axes on all plots below. \n",
    "\n",
    "   (a) Plot the company's profit and the change in profit (differences) on two graphs beside each other\n",
    "    \n",
    "   (b) What is the rate of change of the company's quarterly profit is the amount it spends on advertising is \\$10,000 per quarter and then at \\$30,000 per quarter?\n",
    "    \n",
    "   (c)  Plot the company's profit and the function modeling the rate of change (it's derivative) on the same graph. \n",
    "    \n",
    "   (d) Plot the company's profit function and the tangent line at the \\$10,000 spent per quarter (x=10) on the same graph"
   ]
  },
  {
   "cell_type": "code",
   "execution_count": null,
   "metadata": {
    "collapsed": true
   },
   "outputs": [],
   "source": []
  },
  {
   "cell_type": "markdown",
   "metadata": {},
   "source": [
    "## 5. \n",
    "Find the equation of the tangent line for $f(x)=x^2-4x$ when x= -12\n",
    "Hint we found the slope of the tangent line earlier but didn't write the whole equation, but you know how to write the equation of a line if you know the slope and a point it goes through. \n"
   ]
  },
  {
   "cell_type": "code",
   "execution_count": null,
   "metadata": {
    "collapsed": true
   },
   "outputs": [],
   "source": []
  },
  {
   "cell_type": "markdown",
   "metadata": {},
   "source": [
    "## 6.  \n",
    "The estimated number of digital TV shipments between the years 2000 and 2006 (in millons of units) are as follows\n",
    "\n",
    "|Units Shipped  | 0.63|1.43|2.57|4.1|6|8.1|10|\n",
    "|---------------|----|---|----|----|----|--|----|\n",
    "|Year,t         | 2000  | 2001 | 2002  | 2003  | 2004  | 2005| 2006  |\n",
    "\n",
    "First plot the years (t) v. units shipped (y) \n",
    "\n",
    "\n",
    "\n",
    "\n"
   ]
  },
  {
   "cell_type": "code",
   "execution_count": null,
   "metadata": {
    "collapsed": true
   },
   "outputs": [],
   "source": []
  },
  {
   "cell_type": "markdown",
   "metadata": {},
   "source": [
    "Decide on what this data looks like (linear, quadratic, or exponential) and then fit a curve to it.  \n",
    "\n",
    "\n",
    "\n",
    "\n"
   ]
  },
  {
   "cell_type": "code",
   "execution_count": null,
   "metadata": {
    "collapsed": true
   },
   "outputs": [],
   "source": []
  },
  {
   "cell_type": "markdown",
   "metadata": {},
   "source": [
    "Then determine the rate of change of units shipped in the year 2004.  \n",
    "\n"
   ]
  },
  {
   "cell_type": "code",
   "execution_count": null,
   "metadata": {
    "collapsed": true
   },
   "outputs": [],
   "source": []
  },
  {
   "cell_type": "markdown",
   "metadata": {},
   "source": [
    "If the trend for digital tvs shipped continued to now, how many would be shipped AND what would the rate of change be at this year?  "
   ]
  },
  {
   "cell_type": "code",
   "execution_count": null,
   "metadata": {
    "collapsed": true
   },
   "outputs": [],
   "source": []
  },
  {
   "cell_type": "markdown",
   "metadata": {},
   "source": [
    "## 7. \n",
    "The  data in the CSV file on blackboard, has Years, Sales in Pounds, Sales in Dollars, and Advertising and Promotional Expenditures for smokeless tobacco products from 1985-2015. \n"
   ]
  },
  {
   "cell_type": "code",
   "execution_count": 561,
   "metadata": {
    "collapsed": true
   },
   "outputs": [],
   "source": [
    "import csv \n",
    "import matplotlib.pyplot as plt\n",
    "from scipy.optimize import curve_fit\n",
    "from scipy.stats import expon\n",
    "import datetime as dt\n",
    "from matplotlib import style\n",
    "import pandas as pd\n",
    "import pandas_datareader.data as web\n",
    "%matplotlib inline\n",
    "import matplotlib.pyplot as plt"
   ]
  },
  {
   "cell_type": "code",
   "execution_count": 562,
   "metadata": {},
   "outputs": [
    {
     "name": "stdout",
     "output_type": "stream",
     "text": [
      "    Year       Pounds       Sales  Advertising (dollars)\n",
      "0   2000  111,741,335  1988875535              224582757\n",
      "1   2001  112,193,550  2127520387              236676917\n",
      "2   2002  112,148,366  2362166931              234645000\n",
      "3   2003  112,924,505  2489501857              242514000\n",
      "4   2004  116,768,672  2617388686              231084000\n",
      "5   2005  116,197,005  2611292547              250792000\n",
      "6   2006  115,818,739  2593436592              354123000\n",
      "7   2007  118,234,763  2695462138              411239000\n",
      "8   2008  119,915,125  2757087244              547873000\n",
      "9   2009  117,693,273  2611908686              493071000\n",
      "10  2010  120,522,070  2780437133              444494000\n",
      "11  2011  122,735,863  2936852337              451985000\n",
      "12  2012  125,496,642  3077403248              435927000\n",
      "13  2013  128,043,919  3263105347              503161000\n",
      "14  2014  127,810,528  3415702358              600786000\n",
      "15  2015  129,363,158  3680195446              684938000\n",
      "16  2016  131,433,651  3981902822              759348000\n"
     ]
    }
   ],
   "source": [
    "df=pd.read_csv(\"smokelesstobacco.csv\")  \n",
    "print(df)"
   ]
  },
  {
   "cell_type": "code",
   "execution_count": 563,
   "metadata": {},
   "outputs": [
    {
     "data": {
      "text/plain": [
       "Text(0,0.5,'Sales in Billions of Dollars')"
      ]
     },
     "execution_count": 563,
     "metadata": {},
     "output_type": "execute_result"
    },
    {
     "data": {
      "image/png": "[encoded data removed]",
      "text/plain": [
       "<matplotlib.figure.Figure at 0x1a26bf2f98>"
      ]
     },
     "metadata": {},
     "output_type": "display_data"
    }
   ],
   "source": [
    "x=df.Year\n",
    "y=df.Sales\n",
    "plt.plot(x,y)\n",
    "plt.title(\"Years v. Smokeless Tobacco Sales\")#add titles and legend\n",
    "plt.legend(frameon = False)\n",
    "plt.xlabel(\"Year\")\n",
    "plt.ylabel(\"Sales in Billions of Dollars\")\n",
    "\n"
   ]
  },
  {
   "cell_type": "markdown",
   "metadata": {},
   "source": [
    "From the graph where does the rate of change seem to be the greatest?  "
   ]
  },
  {
   "cell_type": "markdown",
   "metadata": {},
   "source": [
    "Use the np.polyfit and different degree polynomials to try to fit a curve that models this data.  Then find its derivative and use that to estimate the rate of change in sales in the year 2015. "
   ]
  },
  {
   "cell_type": "code",
   "execution_count": null,
   "metadata": {
    "collapsed": true
   },
   "outputs": [],
   "source": []
  },
  {
   "cell_type": "markdown",
   "metadata": {},
   "source": [
    "# Think about what you learned today and write about it! \n",
    "Write a short paragraph about what you learned in this notebook.  This needs to be a thoughtful, reflective paragraph.  There should be reflection on the mathematics content you learned.  \n",
    "You may want to review the goals of this notebook (at the top)"
   ]
  },
  {
   "cell_type": "code",
   "execution_count": null,
   "metadata": {
    "collapsed": true
   },
   "outputs": [],
   "source": []
  },
  {
   "cell_type": "markdown",
   "metadata": {
    "collapsed": true
   },
   "source": [
    "\n",
    "### Please name your file following this set up:  lastname_firstname_lab_three.ipynb\n",
    "\n",
    "**Note: where I have name of your file written you actually need to write the name of your file.  Also make sure the name has no spaces.**"
   ]
  },
  {
   "cell_type": "markdown",
   "metadata": {},
   "source": [
    "# Please submit the .ipynb file on Blackboard and please print the portion from \"For You to Do\" to the end and then do print preview, save as pdf. \n",
    "Please make sure you are submitting the correct type of file (.ipynb) and that it is named correctly or points will be deducted. "
   ]
  }
 ],
 "metadata": {
  "kernelspec": {
   "display_name": "Python 3",
   "language": "python",
   "name": "python3"
  },
  "language_info": {
   "codemirror_mode": {
    "name": "ipython",
    "version": 3
   },
   "file_extension": ".py",
   "mimetype": "text/x-python",
   "name": "python",
   "nbconvert_exporter": "python",
   "pygments_lexer": "ipython3",
   "version": "3.6.7"
  }
 },
 "nbformat": 4,
 "nbformat_minor": 2
}
