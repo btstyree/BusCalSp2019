{
 "cells": [
  {
   "cell_type": "markdown",
   "metadata": {},
   "source": [
    "# Functions\n",
    "\n",
    "Goals for this notebook: \n",
    " - Review linear and quadratic functions\n",
    " - Relate functions to sequences\n",
    " - Exponential functions and use exponential functions to model situations\n",
    " \n",
    "\n",
    "## What is a function?\n",
    "\n",
    " - In your own words, what is a function?\n",
    " - What are some functions you know?  \n",
    " - What are some imporant things you know about functions?"
   ]
  },
  {
   "cell_type": "markdown",
   "metadata": {},
   "source": [
    "## Linear Functions\n",
    "\n",
    "Let's start with an example. \n",
    "\n",
    "**Sales of GPS Equipment:** The annual sales (in billions of dollars) of global positioning system (GPS) equipment from the year 2000 through 2006 is given in the following table.  Here $t=0$ corresponds to 2000. \n",
    "\n",
    "|Annual sales, y| 7.9|9.6|11.5|13.3|15.2|17|18.8|\n",
    "|---------------|----|---|----|----|----|--|----|\n",
    "|Year,t         | 0  | 1 | 2  | 3  | 4  | 5| 6  |\n",
    "\n",
    "First plot the annual sales (y) versus the year (t)"
   ]
  },
  {
   "cell_type": "code",
   "execution_count": 1,
   "metadata": {
    "collapsed": true
   },
   "outputs": [],
   "source": [
    "#Importing many libraries we will need to do the rest of the notebook.  Make sure this has run when you are trying to work on the notebook later\n",
    "%matplotlib inline\n",
    "import matplotlib.pyplot as plt\n",
    "import numpy as np\n",
    "import sympy as sy\n",
    "from statistics import mean\n",
    "from scipy.interpolate import *\n",
    "from matplotlib.pyplot import *\n",
    "\n",
    "\n"
   ]
  },
  {
   "cell_type": "code",
   "execution_count": 2,
   "metadata": {
    "scrolled": true
   },
   "outputs": [
    {
     "data": {
      "text/plain": [
       "Text(0.5,1,'Sales v. Years')"
      ]
     },
     "execution_count": 2,
     "metadata": {},
     "output_type": "execute_result"
    },
    {
     "data": {
      "image/png": "[encoded data removed]",
      "text/plain": [
       "<matplotlib.figure.Figure at 0x1815edf668>"
      ]
     },
     "metadata": {},
     "output_type": "display_data"
    }
   ],
   "source": [
    "years=np.array([0, 1, 2, 3, 4, 5, 6]) #arrays of sales values and year values\n",
    "sales=np.array([7.9, 9.6, 11.5, 13.3, 15.2, 17, 18.8])\n",
    "\n",
    "plt.plot(years, sales, 'o')  #Plotting years v. Sales\n",
    "plt.title(\"Sales v. Years\")  #Title"
   ]
  },
  {
   "cell_type": "markdown",
   "metadata": {},
   "source": [
    "This looks pretty linear.  Think about what you have previously learned, how would you know write a function to model this situation?\n",
    "\n",
    "\n",
    "Let's now use the computer to help us fit a line to this data. \n"
   ]
  },
  {
   "cell_type": "code",
   "execution_count": 3,
   "metadata": {},
   "outputs": [
    {
     "data": {
      "text/plain": [
       "[<matplotlib.lines.Line2D at 0x181e68d048>]"
      ]
     },
     "execution_count": 3,
     "metadata": {},
     "output_type": "execute_result"
    },
    {
     "data": {
      "image/png": "[encoded data removed]",
      "text/plain": [
       "<matplotlib.figure.Figure at 0x1815edf278>"
      ]
     },
     "metadata": {},
     "output_type": "display_data"
    }
   ],
   "source": [
    "np.polyfit(years, sales, 1)  #Fitting a curve,  tell it the x values, y values, and degree of the curve you want. Here we did linear thus the 1. \n",
    "plt.plot(years, sales, '-o', label='fit')"
   ]
  },
  {
   "cell_type": "code",
   "execution_count": 4,
   "metadata": {},
   "outputs": [
    {
     "name": "stdout",
     "output_type": "stream",
     "text": [
      "1.82857142857 7.84285714286\n"
     ]
    }
   ],
   "source": [
    "#Defining the best fit line finding slope and y intercept and then seeing what those values are\n",
    "def best_fit_slope_and_intercept(years, sales):\n",
    "    m=((mean(years)*mean(sales))-mean(years*sales))/((mean(years)**2)-mean(years*years))\n",
    "    b=mean(sales)-m*mean(years)\n",
    "    return m, b \n",
    "\n",
    "m, b=best_fit_slope_and_intercept(years, sales)\n",
    "\n",
    "print(m,b)"
   ]
  },
  {
   "cell_type": "code",
   "execution_count": 5,
   "metadata": {},
   "outputs": [
    {
     "data": {
      "text/plain": [
       "[<matplotlib.lines.Line2D at 0x181e750cc0>]"
      ]
     },
     "execution_count": 5,
     "metadata": {},
     "output_type": "execute_result"
    },
    {
     "data": {
      "image/png": "[encoded data removed]",
      "text/plain": [
       "<matplotlib.figure.Figure at 0x181e6b5390>"
      ]
     },
     "metadata": {},
     "output_type": "display_data"
    }
   ],
   "source": [
    "#Ploting the fit line and the years and sales.\n",
    "fit_line=[(m*x)+b for x in years]\n",
    "plt.plot(years, sales, 'o')\n",
    "plt.title(\"Sales v. Years\")\n",
    "plt.plot(years, fit_line)"
   ]
  },
  {
   "cell_type": "markdown",
   "metadata": {},
   "source": [
    "So what was that equation? \n",
    "$$y=mx+b$$\n",
    "m=1.82857142857 b=7.84285714286\n",
    "So our equation was\n",
    "$$y=1.82857142857x +7.84285714286$$\n",
    "\n",
    "Using this equation let's estimate what the sales of the GPS equipment was in 2005 and compare this with the projected sales. \n"
   ]
  },
  {
   "cell_type": "code",
   "execution_count": 6,
   "metadata": {},
   "outputs": [
    {
     "data": {
      "text/plain": [
       "16.985714285710003"
      ]
     },
     "execution_count": 6,
     "metadata": {},
     "output_type": "execute_result"
    }
   ],
   "source": [
    "#computing the sales in 2005 from our best fit line\n",
    "1.82857142857*5 +7.84285714286"
   ]
  },
  {
   "cell_type": "markdown",
   "metadata": {},
   "source": [
    "Not bad because the sales in 2005 were given as 17. \n",
    "Let's make it so our model is defined as a function, so that we could make predictions of sales in the future. "
   ]
  },
  {
   "cell_type": "code",
   "execution_count": 7,
   "metadata": {
    "collapsed": true
   },
   "outputs": [],
   "source": [
    "#defining our best fit line as a function \n",
    "def s(t):\n",
    "    return (1.82857142857*(t) +7.84285714286)"
   ]
  },
  {
   "cell_type": "markdown",
   "metadata": {},
   "source": [
    "Assuming this model continued, what would sales be at the end of 2018? Let's actually look at what has happend from 2006 until 2018.  \n"
   ]
  },
  {
   "cell_type": "code",
   "execution_count": 8,
   "metadata": {
    "collapsed": true
   },
   "outputs": [],
   "source": [
    "#making a list of values of time to input into the function. \n",
    "t=np.arange(7,19,1)"
   ]
  },
  {
   "cell_type": "code",
   "execution_count": 9,
   "metadata": {},
   "outputs": [
    {
     "data": {
      "text/plain": [
       "array([ 20.64285714,  22.47142857,  24.3       ,  26.12857143,\n",
       "        27.95714286,  29.78571429,  31.61428571,  33.44285714,\n",
       "        35.27142857,  37.1       ,  38.92857143,  40.75714286])"
      ]
     },
     "execution_count": 9,
     "metadata": {},
     "output_type": "execute_result"
    }
   ],
   "source": [
    "#Seeing what the sales would be from 2006 to 2018\n",
    "s(t)"
   ]
  },
  {
   "cell_type": "markdown",
   "metadata": {},
   "source": [
    "Do you think that is what sales are now? Why or why not? We don't actually have this data from this company so let's just think about it."
   ]
  },
  {
   "cell_type": "markdown",
   "metadata": {},
   "source": [
    "A **linear function** is usually defined as:\n",
    "\n",
    "$$f(x) = m  x + b$$\n",
    "\n",
    "where $m$ is the slope (or rate of change), and b is the $y$-intercept. \n",
    "\n",
    "Notice in a linear function the rate of change is constant between points. \n",
    "\n",
    "Slope between two points $(x_1,y_1)$ and $(x_2, y_2)$ is given by $$ m=\\frac{y_2-y_1}{x_2-x_1}$$"
   ]
  },
  {
   "cell_type": "markdown",
   "metadata": {},
   "source": [
    "We can also relate a linear function to an arithmetic sequence.  \n",
    "\n",
    "An arithmetic sequence is one that exhibits a constant change between terms.  How does that relate to a linear function?\n",
    "Every successive term of the sequence can be determined by multiplication and/or addition by the exact same constant.  When plotted, the terms of an arithmetic sequence fall on a straight line.  \n",
    "\n",
    ">\"*In mathematics, an arithmetic progression (AP) or arithmetic sequence is a sequence of numbers such that the difference between the consecutive terms is constant. For instance, the sequence 5, 7, 9, 11, 13, 15, . . . is an arithmetic progression with common difference of 2.*\" -- Wikipedia"
   ]
  },
  {
   "cell_type": "code",
   "execution_count": 10,
   "metadata": {},
   "outputs": [
    {
     "data": {
      "text/plain": [
       "[1, 2, 3, 4, 5, 6]"
      ]
     },
     "execution_count": 10,
     "metadata": {},
     "output_type": "execute_result"
    }
   ],
   "source": [
    "#Defining an arithmetic sequence that goes up by one each time.  Takes the value before it and adds 1\n",
    "arith_1 = [1]\n",
    "for i in range(5):\n",
    "    next = arith_1[i] + 1\n",
    "    arith_1.append(next)\n",
    "    \n",
    "arith_1"
   ]
  },
  {
   "cell_type": "code",
   "execution_count": 11,
   "metadata": {},
   "outputs": [
    {
     "data": {
      "text/plain": [
       "[2, 5, 8, 11, 14, 17]"
      ]
     },
     "execution_count": 11,
     "metadata": {},
     "output_type": "execute_result"
    }
   ],
   "source": [
    "#Defining an arithmetic sequence that goes up by 3 each time.  Takes the value before it and adds 3\n",
    "arith_2 = [2]\n",
    "for i in range(5):\n",
    "    next = arith_2[i] +3\n",
    "    arith_2.append(next)\n",
    "    \n",
    "arith_2"
   ]
  },
  {
   "cell_type": "code",
   "execution_count": 12,
   "metadata": {},
   "outputs": [
    {
     "data": {
      "text/plain": [
       "<matplotlib.legend.Legend at 0x181e81bf60>"
      ]
     },
     "execution_count": 12,
     "metadata": {},
     "output_type": "execute_result"
    },
    {
     "data": {
      "image/png": "[encoded data removed]",
      "text/plain": [
       "<matplotlib.figure.Figure at 0x181e781400>"
      ]
     },
     "metadata": {},
     "output_type": "display_data"
    }
   ],
   "source": [
    "plt.figure(figsize = (8,5))\n",
    "plt.plot(arith_1, '--o', label = \"$a_0 = 1$; \\n$a_{n+1} = a_n + 1$\")\n",
    "plt.plot(arith_2, '--o', label = \"$a_0 = 2$; \\n$a_{n+1} = a_n + 3$\")\n",
    "plt.title(\"Two Arithmetic Sequences in RECURSIVE FORM\")\n",
    "plt.legend(loc = \"best\", frameon = False)"
   ]
  },
  {
   "cell_type": "markdown",
   "metadata": {},
   "source": [
    "Linear functions exhibit the same behavior.  We can recognize linear situations because of a constant rate of change.\n",
    "The $y$-intercept is analagous to $a_0$ or the starting place in our sequence, so the sequences above can be defined using our knowledge of the starting value and rate of change (how much is added every term).\n",
    "\n",
    "$$s1(x) = 1x + 1$$\n",
    "\n",
    "$$s2(x) = 3x + 2$$\n",
    "\n",
    "We can verify this with a plot."
   ]
  },
  {
   "cell_type": "code",
   "execution_count": 13,
   "metadata": {},
   "outputs": [
    {
     "data": {
      "text/plain": [
       "<matplotlib.legend.Legend at 0x181e9d4710>"
      ]
     },
     "execution_count": 13,
     "metadata": {},
     "output_type": "execute_result"
    },
    {
     "data": {
      "image/png": "[encoded data removed]",
      "text/plain": [
       "<matplotlib.figure.Figure at 0x181e8b31d0>"
      ]
     },
     "metadata": {},
     "output_type": "display_data"
    }
   ],
   "source": [
    "#Plotting the linear functions \n",
    "x = np.arange(0, 6, 1)\n",
    "\n",
    "def s1(x):\n",
    "    return x + 1\n",
    "\n",
    "def s2(x):\n",
    "    return 3*x + 2\n",
    "\n",
    "plt.figure()\n",
    "plt.plot(x, s1(x), '--o', label = '$s1(x) = x + 1$')\n",
    "plt.plot(x, s2(x), '--o', label = '$s2(x) = 3x + 2$')\n",
    "plt.title(\"Two Linear Functions in CLOSED FORM\")\n",
    "plt.legend(loc = \"best\", frameon = False)"
   ]
  },
  {
   "cell_type": "markdown",
   "metadata": {},
   "source": [
    "Notice how each point related to the one before it and changed from it by a constant rate. "
   ]
  },
  {
   "cell_type": "markdown",
   "metadata": {},
   "source": [
    "**Let's consider this example: Cost, Revenue, and Profit:**\n",
    "\n",
    "A manufracturer has a monthly fixed cost of \\$100,000 and a production cost of \\$14 per unit produced.  The product then sells for \\$20 per unit. \n",
    "\n",
    "What is the Cost function?\n",
    "\n",
    "What is the Revenue function?\n",
    "\n",
    "What is the Profit functon?\n",
    "\n",
    "Compute the profit (or loss) from production levels of 12,000 and 20,000.\n",
    "\n",
    "What is the break even point?\n",
    "\n",
    "\n",
    "\n",
    "\n",
    "\n"
   ]
  },
  {
   "cell_type": "code",
   "execution_count": 14,
   "metadata": {},
   "outputs": [
    {
     "data": {
      "text/plain": [
       "array([  0.00000000e+00,   1.00002500e+00,   2.00005000e+00, ...,\n",
       "         3.99979999e+04,   3.99990000e+04,   4.00000000e+04])"
      ]
     },
     "execution_count": 14,
     "metadata": {},
     "output_type": "execute_result"
    }
   ],
   "source": [
    "# Some inputs we will use in our functions. np.linspace Returns evenly spaced numbers over a specified interval.\n",
    "np.linspace(0,40000,40000)"
   ]
  },
  {
   "cell_type": "code",
   "execution_count": 15,
   "metadata": {
    "collapsed": true
   },
   "outputs": [],
   "source": [
    "#Defining the cost function \n",
    "def C(x):\n",
    "    return 14*x+100000"
   ]
  },
  {
   "cell_type": "code",
   "execution_count": 16,
   "metadata": {
    "collapsed": true
   },
   "outputs": [],
   "source": [
    "#Defining Revenue Function \n",
    "def R(x):\n",
    "    return 20*x"
   ]
  },
  {
   "cell_type": "code",
   "execution_count": 17,
   "metadata": {
    "collapsed": true
   },
   "outputs": [],
   "source": [
    "#Defining the Profit function \n",
    "def P(x):\n",
    "    return R(x)-C(x)"
   ]
  },
  {
   "cell_type": "code",
   "execution_count": 18,
   "metadata": {},
   "outputs": [
    {
     "data": {
      "text/plain": [
       "-28000"
      ]
     },
     "execution_count": 18,
     "metadata": {},
     "output_type": "execute_result"
    }
   ],
   "source": [
    "#finding profit at 12000 units. \n",
    "P(12000)"
   ]
  },
  {
   "cell_type": "code",
   "execution_count": 19,
   "metadata": {},
   "outputs": [
    {
     "data": {
      "text/plain": [
       "20000"
      ]
     },
     "execution_count": 19,
     "metadata": {},
     "output_type": "execute_result"
    }
   ],
   "source": [
    "P(20000)"
   ]
  },
  {
   "cell_type": "markdown",
   "metadata": {},
   "source": [
    "So we would think that it would happen somewhere between 12,000 units and 20,000 units since the profit goes from negative to positive.  So where was that break even point?"
   ]
  },
  {
   "cell_type": "code",
   "execution_count": 20,
   "metadata": {},
   "outputs": [
    {
     "data": {
      "text/plain": [
       "[50000/3]"
      ]
     },
     "execution_count": 20,
     "metadata": {},
     "output_type": "execute_result"
    }
   ],
   "source": [
    "#define x as a symbol now so it can symbolically solve the equation where cost is equal to revenue. \n",
    "x = sy.Symbol('x')\n",
    "eq = sy.Eq(C(x), R(x)) #makes the equation we want to solve.  \n",
    "sy.solve(eq) #sovles the equation "
   ]
  },
  {
   "cell_type": "markdown",
   "metadata": {},
   "source": [
    "Let's check: This would be where Cost=Revenue or Profit=0.  "
   ]
  },
  {
   "cell_type": "code",
   "execution_count": 21,
   "metadata": {},
   "outputs": [
    {
     "data": {
      "text/plain": [
       "0.0"
      ]
     },
     "execution_count": 21,
     "metadata": {},
     "output_type": "execute_result"
    }
   ],
   "source": [
    "P(50000/3)"
   ]
  },
  {
   "cell_type": "markdown",
   "metadata": {
    "collapsed": true
   },
   "source": [
    "## Stocks \n",
    "\n",
    "Let's follow the link to watch an interesting video. https://www.youtube.com/watch?v=GSsefODDN_s\n",
    "\n",
    "Let's use what we did in lab 1 about importing stock data to try to do an example that involves using lines to predict whether we should buy or not. \n",
    "\n",
    "\n",
    "\n"
   ]
  },
  {
   "cell_type": "code",
   "execution_count": 22,
   "metadata": {
    "collapsed": true
   },
   "outputs": [],
   "source": [
    "#libraries, such as pandas, that we need to import to work with the stock data \n",
    "import datetime as dt\n",
    "from matplotlib import style\n",
    "import pandas as pd\n",
    "import pandas_datareader.data as web\n",
    "%matplotlib inline\n",
    "import matplotlib.pyplot as plt\n",
    "\n"
   ]
  },
  {
   "cell_type": "code",
   "execution_count": 23,
   "metadata": {},
   "outputs": [
    {
     "name": "stdout",
     "output_type": "stream",
     "text": [
      "                  High         Low        Open       Close    Volume  \\\n",
      "Date                                                                   \n",
      "2019-01-02  315.130005  298.799988  306.100006  310.119995  11658600   \n",
      "2019-01-03  309.399994  297.380005  307.000000  300.359985   6965200   \n",
      "2019-01-04  318.000000  302.730011  306.000000  317.690002   7394100   \n",
      "2019-01-07  336.739990  317.750000  321.720001  334.959991   7551200   \n",
      "2019-01-08  344.010010  327.019989  341.959991  335.350006   7008500   \n",
      "\n",
      "             Adj Close  \n",
      "Date                    \n",
      "2019-01-02  310.119995  \n",
      "2019-01-03  300.359985  \n",
      "2019-01-04  317.690002  \n",
      "2019-01-07  334.959991  \n",
      "2019-01-08  335.350006  \n"
     ]
    }
   ],
   "source": [
    "style.use('ggplot') #just a style of plot there are others\n",
    "\n",
    "start = dt.datetime(2019, 1, 1)  #tells where to start looking at the data, year, month, day\n",
    "end = dt.datetime.now() #stops looking now \n",
    "df = web.DataReader('TSLA', 'yahoo', start, end)\n",
    "\n",
    "print(df.head())\n"
   ]
  },
  {
   "cell_type": "code",
   "execution_count": 24,
   "metadata": {},
   "outputs": [
    {
     "data": {
      "image/png": "[encoded data removed]",
      "text/plain": [
       "<matplotlib.figure.Figure at 0x181ea397f0>"
      ]
     },
     "metadata": {},
     "output_type": "display_data"
    }
   ],
   "source": [
    "df.plot()\n",
    "plt.show()"
   ]
  },
  {
   "cell_type": "code",
   "execution_count": 25,
   "metadata": {},
   "outputs": [
    {
     "data": {
      "image/png": "[encoded data removed]",
      "text/plain": [
       "<matplotlib.figure.Figure at 0x181ea39c18>"
      ]
     },
     "metadata": {},
     "output_type": "display_data"
    }
   ],
   "source": [
    "df['Adj Close'].plot()\n",
    "plt.show()"
   ]
  },
  {
   "cell_type": "markdown",
   "metadata": {},
   "source": [
    "Now let's think back to the video we watched about slope using that to inform buying decisions. \n",
    "For now we are going to do a simplified version of this.  Later, perhaps when we know more about the derivative, we will tackle it a little more sophisticatedly.  "
   ]
  },
  {
   "cell_type": "markdown",
   "metadata": {},
   "source": [
    "Let's find the slope of the line between the highs and the slope of the line between the lows.  \n"
   ]
  },
  {
   "cell_type": "code",
   "execution_count": 26,
   "metadata": {},
   "outputs": [
    {
     "data": {
      "text/html": [
       "<div>\n",
       "<style>\n",
       "    .dataframe thead tr:only-child th {\n",
       "        text-align: right;\n",
       "    }\n",
       "\n",
       "    .dataframe thead th {\n",
       "        text-align: left;\n",
       "    }\n",
       "\n",
       "    .dataframe tbody tr th {\n",
       "        vertical-align: top;\n",
       "    }\n",
       "</style>\n",
       "<table border=\"1\" class=\"dataframe\">\n",
       "  <thead>\n",
       "    <tr style=\"text-align: right;\">\n",
       "      <th></th>\n",
       "      <th>Adj Close</th>\n",
       "    </tr>\n",
       "    <tr>\n",
       "      <th>Date</th>\n",
       "      <th></th>\n",
       "    </tr>\n",
       "  </thead>\n",
       "  <tbody>\n",
       "    <tr>\n",
       "      <th>2019-01-02</th>\n",
       "      <td>310.119995</td>\n",
       "    </tr>\n",
       "    <tr>\n",
       "      <th>2019-01-03</th>\n",
       "      <td>300.359985</td>\n",
       "    </tr>\n",
       "    <tr>\n",
       "      <th>2019-01-04</th>\n",
       "      <td>317.690002</td>\n",
       "    </tr>\n",
       "    <tr>\n",
       "      <th>2019-01-07</th>\n",
       "      <td>334.959991</td>\n",
       "    </tr>\n",
       "    <tr>\n",
       "      <th>2019-01-08</th>\n",
       "      <td>335.350006</td>\n",
       "    </tr>\n",
       "    <tr>\n",
       "      <th>2019-01-09</th>\n",
       "      <td>338.529999</td>\n",
       "    </tr>\n",
       "    <tr>\n",
       "      <th>2019-01-10</th>\n",
       "      <td>344.970001</td>\n",
       "    </tr>\n",
       "    <tr>\n",
       "      <th>2019-01-11</th>\n",
       "      <td>347.260010</td>\n",
       "    </tr>\n",
       "    <tr>\n",
       "      <th>2019-01-14</th>\n",
       "      <td>334.399994</td>\n",
       "    </tr>\n",
       "    <tr>\n",
       "      <th>2019-01-15</th>\n",
       "      <td>344.429993</td>\n",
       "    </tr>\n",
       "    <tr>\n",
       "      <th>2019-01-16</th>\n",
       "      <td>346.049988</td>\n",
       "    </tr>\n",
       "    <tr>\n",
       "      <th>2019-01-17</th>\n",
       "      <td>347.309998</td>\n",
       "    </tr>\n",
       "    <tr>\n",
       "      <th>2019-01-18</th>\n",
       "      <td>302.260010</td>\n",
       "    </tr>\n",
       "    <tr>\n",
       "      <th>2019-01-22</th>\n",
       "      <td>298.920013</td>\n",
       "    </tr>\n",
       "    <tr>\n",
       "      <th>2019-01-23</th>\n",
       "      <td>287.589996</td>\n",
       "    </tr>\n",
       "    <tr>\n",
       "      <th>2019-01-24</th>\n",
       "      <td>291.510010</td>\n",
       "    </tr>\n",
       "    <tr>\n",
       "      <th>2019-01-25</th>\n",
       "      <td>297.040009</td>\n",
       "    </tr>\n",
       "    <tr>\n",
       "      <th>2019-01-28</th>\n",
       "      <td>296.821014</td>\n",
       "    </tr>\n",
       "  </tbody>\n",
       "</table>\n",
       "</div>"
      ],
      "text/plain": [
       "             Adj Close\n",
       "Date                  \n",
       "2019-01-02  310.119995\n",
       "2019-01-03  300.359985\n",
       "2019-01-04  317.690002\n",
       "2019-01-07  334.959991\n",
       "2019-01-08  335.350006\n",
       "2019-01-09  338.529999\n",
       "2019-01-10  344.970001\n",
       "2019-01-11  347.260010\n",
       "2019-01-14  334.399994\n",
       "2019-01-15  344.429993\n",
       "2019-01-16  346.049988\n",
       "2019-01-17  347.309998\n",
       "2019-01-18  302.260010\n",
       "2019-01-22  298.920013\n",
       "2019-01-23  287.589996\n",
       "2019-01-24  291.510010\n",
       "2019-01-25  297.040009\n",
       "2019-01-28  296.821014"
      ]
     },
     "execution_count": 26,
     "metadata": {},
     "output_type": "execute_result"
    }
   ],
   "source": [
    "df[['Adj Close']]"
   ]
  },
  {
   "cell_type": "code",
   "execution_count": null,
   "metadata": {
    "collapsed": true
   },
   "outputs": [],
   "source": []
  },
  {
   "cell_type": "markdown",
   "metadata": {
    "collapsed": true
   },
   "source": [
    "\n",
    "## Quadratic Functions\n",
    "\n",
    "Let's begin with an example: ThermoMaster manufactures an indoor-outdoor thermometer at its overseas subsidiary.  Management has estimates that the profit (in dollars) realizable by ThermoMaster in the maufacture and sale of $x$ thermometers per week is $$P(x)=-0.001x^2+8x-5000$$\n",
    "\n",
    "Find ThermomMaster's weekly profit if its level of production is (a) 1000 thermometers per week and (b) 2000 thermometers per week. Also plot this profit function. \n",
    "\n"
   ]
  },
  {
   "cell_type": "code",
   "execution_count": 27,
   "metadata": {
    "collapsed": true
   },
   "outputs": [],
   "source": [
    "#define the function\n",
    "def P(x):\n",
    "    return (-0.001*x**2+8*x-5000)\n",
    "\n",
    "x=np.linspace(0,3000,3000)\n",
    "\n"
   ]
  },
  {
   "cell_type": "code",
   "execution_count": 28,
   "metadata": {},
   "outputs": [
    {
     "data": {
      "text/plain": [
       "2000.0"
      ]
     },
     "execution_count": 28,
     "metadata": {},
     "output_type": "execute_result"
    }
   ],
   "source": [
    "#Evaluate the profit function we just defined at 1000\n",
    "P(1000)"
   ]
  },
  {
   "cell_type": "code",
   "execution_count": 29,
   "metadata": {},
   "outputs": [
    {
     "data": {
      "text/plain": [
       "7000.0"
      ]
     },
     "execution_count": 29,
     "metadata": {},
     "output_type": "execute_result"
    }
   ],
   "source": [
    "P(2000)"
   ]
  },
  {
   "cell_type": "code",
   "execution_count": 30,
   "metadata": {},
   "outputs": [
    {
     "data": {
      "text/plain": [
       "Text(0,0.5,'Profit in dollars')"
      ]
     },
     "execution_count": 30,
     "metadata": {},
     "output_type": "execute_result"
    },
    {
     "data": {
      "image/png": "[encoded data removed]",
      "text/plain": [
       "<matplotlib.figure.Figure at 0x181e9f4ef0>"
      ]
     },
     "metadata": {},
     "output_type": "display_data"
    }
   ],
   "source": [
    "#plot the profit function\n",
    "plt.figure(figsize = (10,6))\n",
    "plt.plot(x, P(x), label = \"Profit Curve\")\n",
    "plt.title(\"Themometer Profit\")\n",
    "plt.legend(frameon = False)\n",
    "plt.xlabel(\"Quantity $x$\")\n",
    "plt.ylabel(\"Profit in dollars\")"
   ]
  },
  {
   "cell_type": "code",
   "execution_count": 31,
   "metadata": {},
   "outputs": [
    {
     "data": {
      "text/plain": [
       "Text(0,0.5,'Profit in dollars')"
      ]
     },
     "execution_count": 31,
     "metadata": {},
     "output_type": "execute_result"
    },
    {
     "data": {
      "image/png": "[encoded data removed]",
      "text/plain": [
       "<matplotlib.figure.Figure at 0x1820dc9c50>"
      ]
     },
     "metadata": {},
     "output_type": "display_data"
    }
   ],
   "source": [
    "#plot the profit function with more quantity\n",
    "x=np.linspace(0,10000,2500)\n",
    "\n",
    "plt.figure(figsize = (10,6))\n",
    "plt.plot(x, P(x), label = \"Profit Curve\")\n",
    "plt.title(\"Themometer Profit\")\n",
    "plt.legend(frameon = False)\n",
    "plt.xlabel(\"Quantity $x$\")\n",
    "plt.ylabel(\"Profit in dollars\")\n"
   ]
  },
  {
   "cell_type": "markdown",
   "metadata": {},
   "source": [
    "Looking at this function and seeing that it was quadratic we probably had an idea that it was of this shape.  What do you notice about the profits, should we be selling 10,000 units according to this model?  \n",
    "\n",
    "Later we will learn to optimize this and see based on this model of our profits how many units should we be selling to maximize our profits.  "
   ]
  },
  {
   "cell_type": "markdown",
   "metadata": {},
   "source": [
    "Let's take a look at that quadratic. \n",
    "\n",
    "Quadratic functions are in the form $$y=ax^2+bx+c$$ where a, b, and c are real numbers.\n",
    "\n",
    "\n"
   ]
  },
  {
   "cell_type": "markdown",
   "metadata": {},
   "source": [
    "Supply and demand equations are also examples of given quadratic functions. \n",
    "You can take a look in your e-book (https://www.webassign.net/ebooks/tanapcalc10/shell.html?s=4f1693b5a1e0740d35a20e1c0912c5ec&c=537385&f=6232015&type=youbook&id=605). \n",
    "\n",
    "\n",
    "\n",
    "A **demand equation** expresses the relationship between unit price and the quantity demanded, and the graph is called the **demand curve**. A demand function is defined by $p=f(x)$ where $p$ measures the unit price and $x$ measure the number of units of the commodity of interest.  This is generally a decreasing function since in general the quantity demanded of a commodity decreases as the commodity's unit price increases, and vice versa. \n",
    "\n",
    "A **supply equation** is the relationship between the unit price and the quantity supplied and the graph is the **supply curve**. In general an increase in the unit price induces the producer to increase the supply of the commodity and thus generally an increasing function. The **supply function** is defined by $p=f(x)$ where $p$ is unit price and $x$ is the number of units.  \n",
    "\n",
    "With just pure competition the price of a good will settle at a level dictated by the following: The supply of the commodity will be equal to the demand for it.  If price is too high the consure will not buy, but if the price is too low the producer will not supply it. Market equilibrium is when the quantity produced is equal to the quantity demanded.  The quantity that makes this happen is the **equlibrium quantity** and the price where this happens is the **equilibrium price**.  How can we figure out where that happens? Consider this example: \n",
    "\n",
    "Supply and Demand for bluetooth headsets. \n",
    "The demand function is given by \n",
    "\n",
    "$$p=d(q)=-0.025q^2-0.5q+60$$\n",
    "\n",
    "\n",
    "The supply function is given by \n",
    "$$p=s(q)=0.02q^2+0.6q+20$$\n",
    "\n",
    "Let's graph and find the equilibrium price and quantity. \n",
    "\n"
   ]
  },
  {
   "cell_type": "code",
   "execution_count": 32,
   "metadata": {
    "collapsed": true
   },
   "outputs": [],
   "source": [
    "def d(q):\n",
    "    return (-0.025*q**2-0.5*q+60)\n",
    "\n",
    "def s(q):\n",
    "    return (0.02*q**2+0.6*q+20)\n",
    "\n",
    "q=np.linspace(0,40,1000)\n",
    "\n",
    "            "
   ]
  },
  {
   "cell_type": "code",
   "execution_count": 33,
   "metadata": {},
   "outputs": [
    {
     "data": {
      "text/plain": [
       "Text(0,0.5,'Price')"
      ]
     },
     "execution_count": 33,
     "metadata": {},
     "output_type": "execute_result"
    },
    {
     "data": {
      "image/png": "[encoded data removed]",
      "text/plain": [
       "<matplotlib.figure.Figure at 0x18221fa358>"
      ]
     },
     "metadata": {},
     "output_type": "display_data"
    }
   ],
   "source": [
    "plt.figure(figsize = (10,6))\n",
    "plt.plot(q, s(q), label = \"Supply Curve\")\n",
    "plt.plot(q, d(q), label = \"Demand Curve\")\n",
    "plt.title(\"Supply and Demand\")\n",
    "plt.legend(frameon = False)\n",
    "plt.xlabel(\"Quantity $q$ in thousands\")\n",
    "plt.ylabel(\"Price\")"
   ]
  },
  {
   "cell_type": "markdown",
   "metadata": {},
   "source": [
    "In order to find this value where the curves intersect, we need to solve the equation:\n",
    "\n",
    "$$s(q) = d(q)$$\n",
    "\n",
    "We can use Sympy to accomplish this with the `Eq` and `Solve` commands. "
   ]
  },
  {
   "cell_type": "code",
   "execution_count": 34,
   "metadata": {},
   "outputs": [
    {
     "data": {
      "text/plain": [
       "[-44.4444444444444, 20.0000000000000]"
      ]
     },
     "execution_count": 34,
     "metadata": {},
     "output_type": "execute_result"
    }
   ],
   "source": [
    "q = sy.Symbol('q')\n",
    "eq = sy.Eq(s(q), d(q))\n",
    "sy.solve(eq)"
   ]
  },
  {
   "cell_type": "markdown",
   "metadata": {},
   "source": [
    "Does the -44.44 make sense? No. Why?\n"
   ]
  },
  {
   "cell_type": "markdown",
   "metadata": {},
   "source": [
    "So what is the equilibrium quantity?  And then how do we use that to find the price? \n"
   ]
  },
  {
   "cell_type": "code",
   "execution_count": 35,
   "metadata": {},
   "outputs": [
    {
     "data": {
      "text/plain": [
       "40.0"
      ]
     },
     "execution_count": 35,
     "metadata": {},
     "output_type": "execute_result"
    }
   ],
   "source": [
    "s(20)"
   ]
  },
  {
   "cell_type": "markdown",
   "metadata": {},
   "source": [
    "For readability, let's update the plot to include this point and add  text and an arrow pointing to the equilibrium point using the matplotlib's `annotate` function.  This function draws an arrow with some text to a point on the graph."
   ]
  },
  {
   "cell_type": "code",
   "execution_count": 36,
   "metadata": {},
   "outputs": [
    {
     "data": {
      "text/plain": [
       "Text(20,50,'Equilibrium at (20, 40)')"
      ]
     },
     "execution_count": 36,
     "metadata": {},
     "output_type": "execute_result"
    },
    {
     "data": {
      "image/png": "[encoded data removed]",
      "text/plain": [
       "<matplotlib.figure.Figure at 0x18223940b8>"
      ]
     },
     "metadata": {},
     "output_type": "display_data"
    }
   ],
   "source": [
    "\n",
    "fig = plt.figure(figsize= (14, 8)) #create figure and reset q to be numbers\n",
    "q = np.linspace(0, 40, 1000)\n",
    "\n",
    "ax = fig.add_subplot(111)\n",
    "\n",
    "plt.plot(q, s(q), label = \"Supply Curve\") #plot supply, demand, and equilibrium points\n",
    "plt.plot(q, d(q), label = \"Demand Curve\")\n",
    "plt.plot(20, 40, 'o', markersize = 14)\n",
    "\n",
    "\n",
    "plt.title(\"Supply and Demand\")#add titles and legend\n",
    "plt.legend(frameon = False)\n",
    "plt.xlabel(\"Quantity $q$\")\n",
    "plt.ylabel(\"Price\")\n",
    "\n",
    "\n",
    "#ax = plt.axes()#add arrow with annotation\n",
    "ax.annotate('Equilibrium at (20, 40)', xy=(20,40), xytext=(20, 50), arrowprops=dict(facecolor='black'))"
   ]
  },
  {
   "cell_type": "markdown",
   "metadata": {},
   "source": [
    "That's nice if you are given the function but let's look at an example of using some data to create the supply and demand functions. \n",
    " \n",
    "We will consider a small example to start with. We could use similar techniques to handle larger data sets. \n",
    "\n",
    "**Example: Restaurants need chicken and Farms need to sell chicken**\n",
    "\n",
    "The weekly demand for chicken at several local farm to table restaurants is given in the following table: \n",
    "\n",
    "|Price per kilogram| Farm Eats|Table Farm|Local Eatz|Yumz|The Chicken|Total market demand|\n",
    "|---------------   |----|---|----|----|----|--|----|\n",
    "|15                | 30  | 40 | 10  | 15  | 30  | 125| \n",
    "|---------------   |----|---|----|----|----|--|\n",
    "|30                | 20 | 29 | 8  | 10  | 25  | 90|\n",
    "|---------------   |----|---|----|----|----|--|\n",
    "|45                | 10 | 20 | 7  | 7  | 20  | 64|\n",
    "|---------------   |----|---|----|----|----|--|\n",
    "|60                | 5 | 10 | 5  | 3  | 15  | 38| \n",
    "|---------------   |----|---|----|----|----|--|\n",
    "|75                | 0  | 8 | 1  | 1  | 8  | 18| \n",
    "|---------------   |----|---|----|----|----|--|\n",
    "|90                | 0  | 5 | 0 | 0  | 2  | 7|\n",
    "The weekly supply for two local chicken farms is given in the table below:\n",
    "\n",
    "|Price per kilogram|Lavender Chickens|Banny Rosters|Total Market Supply|\n",
    "|---------------   |----|---|----|\n",
    "|15                | 0  | 10 | 10  | \n",
    "|---------------   |----|---|----|\n",
    "|30                | 15 | 20 | 35 | \n",
    "|---------------   |----|---|----|\n",
    "|45                | 30 | 34 | 64  | \n",
    "|---------------   |----|---|----|\n",
    "|60                | 45 | 50 | 95  | \n",
    "|---------------   |----|---|----|\n",
    "|75                | 58  | 70 | 128  | \n",
    "|---------------   |----|---|----|\n",
    "|90                | 70  | 90 | 160 | \n"
   ]
  },
  {
   "cell_type": "code",
   "execution_count": 37,
   "metadata": {
    "collapsed": true
   },
   "outputs": [],
   "source": [
    "x=[15, 30, 45, 60, 75, 90]"
   ]
  },
  {
   "cell_type": "code",
   "execution_count": 38,
   "metadata": {
    "collapsed": true
   },
   "outputs": [],
   "source": [
    "s=[10, 35, 64, 95, 128, 160]"
   ]
  },
  {
   "cell_type": "code",
   "execution_count": 39,
   "metadata": {
    "collapsed": true
   },
   "outputs": [],
   "source": [
    "d= [125, 90, 64, 38, 18, 7]"
   ]
  },
  {
   "cell_type": "code",
   "execution_count": 40,
   "metadata": {},
   "outputs": [
    {
     "data": {
      "text/plain": [
       "Text(0,0.5,'Price')"
      ]
     },
     "execution_count": 40,
     "metadata": {},
     "output_type": "execute_result"
    },
    {
     "data": {
      "image/png": "[encoded data removed]",
      "text/plain": [
       "<matplotlib.figure.Figure at 0x18225030f0>"
      ]
     },
     "metadata": {},
     "output_type": "display_data"
    }
   ],
   "source": [
    "fig = plt.figure(figsize= (14, 8)) #create figure and reset q to be numbers\n",
    "q = np.linspace(0, 40, 1000)\n",
    "\n",
    "ax = fig.add_subplot(111)\n",
    "\n",
    "plt.plot(x, s, 'o', label = \"Supply points\") #plot supply, demand\n",
    "plt.plot(x, d, 'o', label = \"Demand points\")\n",
    "\n",
    "\n",
    "\n",
    "plt.title(\"Supply and Demand\")#add titles and legend\n",
    "plt.legend(frameon = False)\n",
    "plt.xlabel(\"Quantity\")\n",
    "plt.ylabel(\"Price\")"
   ]
  },
  {
   "cell_type": "markdown",
   "metadata": {},
   "source": [
    "This next cell will get the coefficients of the demand curve and the next uses them to write in the form $ax^2+bx+c$"
   ]
  },
  {
   "cell_type": "code",
   "execution_count": 41,
   "metadata": {},
   "outputs": [
    {
     "name": "stdout",
     "output_type": "stream",
     "text": [
      "0.0114285714286 -2.78476190476 164.2\n"
     ]
    }
   ],
   "source": [
    "a, b, c=np.polyfit(x,d,2)\n",
    "print(a, b, c)"
   ]
  },
  {
   "cell_type": "code",
   "execution_count": 42,
   "metadata": {
    "collapsed": true
   },
   "outputs": [],
   "source": [
    "#using the coefficients found above defining the demand curve as a function\n",
    "def P(x):\n",
    "    return (0.0114285714286*(x**2)-2.78476190476*x+164.2)"
   ]
  },
  {
   "cell_type": "markdown",
   "metadata": {},
   "source": [
    "This following cell is the coefficents for the supply curve and then writes it in the form of a quadratic function "
   ]
  },
  {
   "cell_type": "code",
   "execution_count": 43,
   "metadata": {},
   "outputs": [
    {
     "name": "stdout",
     "output_type": "stream",
     "text": [
      "0.00404761904762 1.59404761905 -15.5\n"
     ]
    }
   ],
   "source": [
    "e, f, g=np.polyfit(x,s,2)\n",
    "print(e ,f, g)"
   ]
  },
  {
   "cell_type": "code",
   "execution_count": 44,
   "metadata": {
    "collapsed": true
   },
   "outputs": [],
   "source": [
    "def Z(x):\n",
    "    return (0.00404761904762*(x**2)+1.59404761905*x+-15.5)"
   ]
  },
  {
   "cell_type": "code",
   "execution_count": 45,
   "metadata": {},
   "outputs": [
    {
     "name": "stdout",
     "output_type": "stream",
     "text": [
      "[15 30 45 60 75 90]\n"
     ]
    },
    {
     "data": {
      "text/plain": [
       "[<matplotlib.lines.Line2D at 0x1822ce8518>]"
      ]
     },
     "execution_count": 45,
     "metadata": {},
     "output_type": "execute_result"
    },
    {
     "data": {
      "image/png": "[encoded data removed]",
      "text/plain": [
       "<matplotlib.figure.Figure at 0x1822acd390>"
      ]
     },
     "metadata": {},
     "output_type": "display_data"
    }
   ],
   "source": [
    "\n",
    "x=np.arange(15,105,15) #had to redefine x so that it could be used in the functions for supply and demand.  Here it is the list from 15 to 90 counting by 15s. \n",
    "print(x)\n",
    "plt.plot(x, s, 'o', label = \"Supply points\") #plot supply, demand as the data points\n",
    "plt.plot(x, d, 'o', label = \"Demand points\")\n",
    "plt.plot(x, P(x), '--', label=\"Demand Curve\") #plot the fitted supply and demand curves\n",
    "plt.plot(x, Z(x), '--', label=\"Supply Curve\")"
   ]
  },
  {
   "cell_type": "code",
   "execution_count": 46,
   "metadata": {},
   "outputs": [
    {
     "data": {
      "text/plain": [
       "[44.3547149654631, 548.903349548511]"
      ]
     },
     "execution_count": 46,
     "metadata": {},
     "output_type": "execute_result"
    }
   ],
   "source": [
    "x = sy.Symbol('q')\n",
    "eq = sy.Eq(P(x), Z(x))\n",
    "sy.solve(eq)"
   ]
  },
  {
   "cell_type": "markdown",
   "metadata": {
    "collapsed": true
   },
   "source": [
    "Note: Supply and demand functions aren't always quadratic.  We we see some other examples in our notes. "
   ]
  },
  {
   "cell_type": "markdown",
   "metadata": {},
   "source": [
    "## Exponential Functions \n"
   ]
  },
  {
   "cell_type": "markdown",
   "metadata": {
    "collapsed": true
   },
   "source": [
    "We will model many things with exponential functions. \n",
    "\n",
    "\n",
    "Exponential functions are in the form $$ f(x)=b^x$$ where $b$ is a constant. Let's see what that looks like on a graph. \n",
    "\n",
    "\n",
    "\n"
   ]
  },
  {
   "cell_type": "code",
   "execution_count": 47,
   "metadata": {},
   "outputs": [
    {
     "data": {
      "text/plain": [
       "[<matplotlib.lines.Line2D at 0x1821fb4588>]"
      ]
     },
     "execution_count": 47,
     "metadata": {},
     "output_type": "execute_result"
    },
    {
     "data": {
      "image/png": "[encoded data removed]",
      "text/plain": [
       "<matplotlib.figure.Figure at 0x1820dbcb70>"
      ]
     },
     "metadata": {},
     "output_type": "display_data"
    }
   ],
   "source": [
    "x=np.linspace(-1,10,50)\n",
    "\n",
    "def f(x):\n",
    "    return 4**(x)\n",
    "\n",
    "plt.plot(x, f(x))\n",
    "\n"
   ]
  },
  {
   "cell_type": "code",
   "execution_count": 48,
   "metadata": {},
   "outputs": [
    {
     "data": {
      "text/plain": [
       "1"
      ]
     },
     "execution_count": 48,
     "metadata": {},
     "output_type": "execute_result"
    }
   ],
   "source": [
    "f(0)"
   ]
  },
  {
   "cell_type": "markdown",
   "metadata": {},
   "source": [
    "We will begin with an example you are probably familiar with. Compound interest. \n",
    "\n",
    "You are probably familiar with $$A=Pe^{rt}$$\n",
    "Where $A$ is the amount accumulated at the end of $t$ years, $P$ is your principal, $r$ is your rate as a decimal, and $t$ is your time in years. We use this when our investment is compounding continuously. \n",
    "\n",
    "Another compound interest formula for different compounding periods per year. \n",
    "\n",
    "$$A=P(1+\\frac{r}{m})^{mt}$$ \n",
    "where $A$ is the ampund accumulated after $t$ years, $P$ is the principal (initial amount invested), $r$ is the nominal interest rate per year, $m$ is the number of conversion periods per year (or compounding periods per year), and $t$ is the time in years. \n",
    "\n"
   ]
  },
  {
   "cell_type": "markdown",
   "metadata": {},
   "source": [
    "Let's calculate the accumulated amount after 5 years on an initial investment of \\$1000, with an interest rate of 4\\% when interest is compounded annually, semiannually, quarterly, monthly, and daily. "
   ]
  },
  {
   "cell_type": "code",
   "execution_count": 49,
   "metadata": {
    "collapsed": true
   },
   "outputs": [],
   "source": [
    "#here I defined A as a function of m, compounding periods per year, since that was the variable I was changing. \n",
    "def A(m):\n",
    "    return 1000*(1+.04/m)**(m*5)"
   ]
  },
  {
   "cell_type": "code",
   "execution_count": 50,
   "metadata": {},
   "outputs": [
    {
     "data": {
      "text/plain": [
       "1216.6529024000001"
      ]
     },
     "execution_count": 50,
     "metadata": {},
     "output_type": "execute_result"
    }
   ],
   "source": [
    "A(1)"
   ]
  },
  {
   "cell_type": "code",
   "execution_count": 51,
   "metadata": {},
   "outputs": [
    {
     "data": {
      "text/plain": [
       "1218.9944199947574"
      ]
     },
     "execution_count": 51,
     "metadata": {},
     "output_type": "execute_result"
    }
   ],
   "source": [
    "A(2)"
   ]
  },
  {
   "cell_type": "code",
   "execution_count": 52,
   "metadata": {},
   "outputs": [
    {
     "data": {
      "text/plain": [
       "1220.190039947967"
      ]
     },
     "execution_count": 52,
     "metadata": {},
     "output_type": "execute_result"
    }
   ],
   "source": [
    "A(4)"
   ]
  },
  {
   "cell_type": "code",
   "execution_count": 53,
   "metadata": {},
   "outputs": [
    {
     "data": {
      "text/plain": [
       "1220.9965939421215"
      ]
     },
     "execution_count": 53,
     "metadata": {},
     "output_type": "execute_result"
    }
   ],
   "source": [
    "A(12)"
   ]
  },
  {
   "cell_type": "code",
   "execution_count": 54,
   "metadata": {},
   "outputs": [
    {
     "data": {
      "text/plain": [
       "1221.3893739754637"
      ]
     },
     "execution_count": 54,
     "metadata": {},
     "output_type": "execute_result"
    }
   ],
   "source": [
    "A(365)"
   ]
  },
  {
   "cell_type": "markdown",
   "metadata": {},
   "source": [
    "What if now we were compounding continuously:  $A=Pe^{rt}$"
   ]
  },
  {
   "cell_type": "code",
   "execution_count": 55,
   "metadata": {},
   "outputs": [
    {
     "data": {
      "text/plain": [
       "1221.4027581601699"
      ]
     },
     "execution_count": 55,
     "metadata": {},
     "output_type": "execute_result"
    }
   ],
   "source": [
    "\n",
    "1000*np.exp(.04*5)\n",
    "\n",
    "#note np.exp is what we have to use for e.  We can put whatever it is raised to in the parenthesis. "
   ]
  },
  {
   "cell_type": "markdown",
   "metadata": {
    "collapsed": true
   },
   "source": [
    "Another example of use of an exponential function: \n",
    "  \n",
    " Cows are a important source of biological contamination of fresh water by enteric (intestinal) pathogens, such as anthrax, salmonella, tetanus, giardia and E. coli O157:H7, present in the cow's manure. It is expensive and time consuming to test for each of the approximately 100 waterborne enteric pathogens, so an indicator specie, fecal coliform, is tested instead. Cows produce about 1011 (100 billion) colony forming units of fecal coliform per cow per day, an order of magnitude greater than sheep and hogs.\n",
    "\n",
    "  The Granger Drain is a system of above-ground drainage ditches and subsurface tile drains and pipes, covering about 18000 acres, that eventually discharges into the Yakima River in east-central Washington State. This semi-arid region receives about 8 inches of rainfall per year, and is supplemented with about 36 inches of irrigation water per year, mostly delivered by the traditional method of water running across the ground in furrows (rills). In addition to orchards and various crops, this area also hosts a number of dairies and animal feed operations (feedlots). The Yakima Valley is one of the most productive agricultural areas on Planet Earth.\n",
    "\n",
    "  Waterborne pathogens are quickly washed into the Granger Drain system, and hence into the Yakima River, during the irrigation season. In order to quantify the relationship between cows and contaminated runoff, the South Yakima Conservation District measured fecal coliform concentrations in water from drains at the outlets of 8 different sub-basins within the Granger Drain system from 1990 to 1992. Repeated measurements of fecal coliform are given as mean values in the table. The Washington State Department of Ecology reviewed the data and compared the FC counts with a number of other variables. The acreage covered by dairies and feedlots was the only parameter, out of several studied, which correlated well with the fecal coliform data.\n",
    "\n",
    "  As is apparent from the graph and the data that there is a strong positive correlation between the acreage of cows and the amount of FC in the water. DOE presented a linear regression between acreage and FC in their report, however an exponential model fits the data with a higher correlation coefficient. The data and model raise some interesting questions. Why is there 3000 cfu/100 ml of FC in the drainage water when there are no cows? Why is there a positive correlation between acreage of dairies/feedlots and FC, but little to no correlation between the number of dairy cows and FC? What percentage decrease in cow acreage must there be to decrease the FC counts by 90%, which is DOE's goal? What would be the effect on FC counts of recycling the drainage water back as irrigation water (\"gray water\"), to conserve water in this arid region?\n",
    "\n",
    "Reference: Washington Department of Ecology, \"Granger Drain Fecal Coliform Bacteria Total Maximum Daily Load Assessment and Evaluation\"; WA DOE Report, 2001, draft."
   ]
  },
  {
   "cell_type": "markdown",
   "metadata": {},
   "source": [
    "Our data is in a csv file so we need to import some libraries to read that. "
   ]
  },
  {
   "cell_type": "code",
   "execution_count": 56,
   "metadata": {
    "collapsed": true
   },
   "outputs": [],
   "source": [
    "import csv \n",
    "import matplotlib.pyplot as plt\n",
    "from scipy.optimize import curve_fit\n",
    "from scipy.stats import expon"
   ]
  },
  {
   "cell_type": "code",
   "execution_count": 57,
   "metadata": {
    "collapsed": true
   },
   "outputs": [],
   "source": [
    "df= pd.read_csv(\"cowrunoff.csv\")  #defining our data frame to be the cowrunoff csv file "
   ]
  },
  {
   "cell_type": "code",
   "execution_count": 58,
   "metadata": {
    "scrolled": true
   },
   "outputs": [
    {
     "data": {
      "text/html": [
       "<div>\n",
       "<style>\n",
       "    .dataframe thead tr:only-child th {\n",
       "        text-align: right;\n",
       "    }\n",
       "\n",
       "    .dataframe thead th {\n",
       "        text-align: left;\n",
       "    }\n",
       "\n",
       "    .dataframe tbody tr th {\n",
       "        vertical-align: top;\n",
       "    }\n",
       "</style>\n",
       "<table border=\"1\" class=\"dataframe\">\n",
       "  <thead>\n",
       "    <tr style=\"text-align: right;\">\n",
       "      <th></th>\n",
       "      <th>Sub Basin Numer</th>\n",
       "      <th>Acreage</th>\n",
       "      <th>CFU</th>\n",
       "    </tr>\n",
       "  </thead>\n",
       "  <tbody>\n",
       "    <tr>\n",
       "      <th>0</th>\n",
       "      <td>1&amp;2</td>\n",
       "      <td>89.00</td>\n",
       "      <td>6161</td>\n",
       "    </tr>\n",
       "    <tr>\n",
       "      <th>1</th>\n",
       "      <td>3</td>\n",
       "      <td>106.00</td>\n",
       "      <td>7477</td>\n",
       "    </tr>\n",
       "    <tr>\n",
       "      <th>2</th>\n",
       "      <td>4</td>\n",
       "      <td>52.00</td>\n",
       "      <td>4336</td>\n",
       "    </tr>\n",
       "    <tr>\n",
       "      <th>3</th>\n",
       "      <td>5</td>\n",
       "      <td>38.00</td>\n",
       "      <td>3612</td>\n",
       "    </tr>\n",
       "    <tr>\n",
       "      <th>4</th>\n",
       "      <td>6</td>\n",
       "      <td>0.01</td>\n",
       "      <td>3065</td>\n",
       "    </tr>\n",
       "    <tr>\n",
       "      <th>5</th>\n",
       "      <td>7</td>\n",
       "      <td>91.00</td>\n",
       "      <td>5446</td>\n",
       "    </tr>\n",
       "    <tr>\n",
       "      <th>6</th>\n",
       "      <td>8</td>\n",
       "      <td>50.00</td>\n",
       "      <td>3800</td>\n",
       "    </tr>\n",
       "  </tbody>\n",
       "</table>\n",
       "</div>"
      ],
      "text/plain": [
       "  Sub Basin Numer  Acreage   CFU\n",
       "0             1&2    89.00  6161\n",
       "1               3   106.00  7477\n",
       "2               4    52.00  4336\n",
       "3               5    38.00  3612\n",
       "4               6     0.01  3065\n",
       "5               7    91.00  5446\n",
       "6               8    50.00  3800"
      ]
     },
     "execution_count": 58,
     "metadata": {},
     "output_type": "execute_result"
    }
   ],
   "source": [
    "df #printing or showing our data "
   ]
  },
  {
   "cell_type": "markdown",
   "metadata": {},
   "source": [
    "This data is of: Fecal coliform in the Granger Drain, WA\t\t\n",
    "sub-basins within the larger Granger drain system\t\t\n",
    "acreage of dairies and feedlots within the sub-basin\t\t\n",
    "fecal coliform counts in colonies per 100 milliliters\t\n",
    "Retrieved from:http://resources.seattlecentral.edu/qelp/sets/045/045.html"
   ]
  },
  {
   "cell_type": "code",
   "execution_count": 59,
   "metadata": {},
   "outputs": [
    {
     "name": "stdout",
     "output_type": "stream",
     "text": [
      "  Sub Basin Numer  Acreage   CFU\n",
      "0             1&2    89.00  6161\n",
      "1               3   106.00  7477\n",
      "2               4    52.00  4336\n",
      "3               5    38.00  3612\n",
      "4               6     0.01  3065\n",
      "5               7    91.00  5446\n",
      "6               8    50.00  3800\n"
     ]
    }
   ],
   "source": [
    "dataframe=pd.read_csv('cowrunoff.csv')\n",
    "print(dataframe)"
   ]
  },
  {
   "cell_type": "code",
   "execution_count": 60,
   "metadata": {},
   "outputs": [
    {
     "name": "stdout",
     "output_type": "stream",
     "text": [
      "  Sub Basin Numer  Acreage   CFU\n",
      "4               6     0.01  3065\n",
      "3               5    38.00  3612\n",
      "6               8    50.00  3800\n",
      "2               4    52.00  4336\n",
      "0             1&2    89.00  6161\n",
      "5               7    91.00  5446\n",
      "1               3   106.00  7477\n"
     ]
    }
   ],
   "source": [
    "sorted_cows=dataframe.sort_values(by='Acreage', ascending=True)  #sorting it to plot it so that then we can fit a curve to it. \n",
    "print(sorted_cows)"
   ]
  },
  {
   "cell_type": "code",
   "execution_count": 61,
   "metadata": {
    "collapsed": true
   },
   "outputs": [],
   "source": [
    "x=sorted_cows.Acreage\n",
    "y=sorted_cows.CFU"
   ]
  },
  {
   "cell_type": "code",
   "execution_count": 62,
   "metadata": {},
   "outputs": [
    {
     "data": {
      "text/plain": [
       "Text(0,0.5,'CFU ((cfu/100ml))')"
      ]
     },
     "execution_count": 62,
     "metadata": {},
     "output_type": "execute_result"
    },
    {
     "data": {
      "image/png": "[encoded data removed]",
      "text/plain": [
       "<matplotlib.figure.Figure at 0x1a230e44a8>"
      ]
     },
     "metadata": {},
     "output_type": "display_data"
    }
   ],
   "source": [
    "plt.plot(x,y, 'o')\n",
    "plt.title(\"Acreage v. Fecal Coliform\")#add titles and legend\n",
    "plt.legend(frameon = False)\n",
    "plt.xlabel(\"Acreage\")\n",
    "plt.ylabel(\"CFU ((cfu/100ml))\")\n"
   ]
  },
  {
   "cell_type": "code",
   "execution_count": 63,
   "metadata": {
    "collapsed": true
   },
   "outputs": [],
   "source": [
    "def func(x,a,b,c):\n",
    "    return a*np.exp(-b*x)+c"
   ]
  },
  {
   "cell_type": "code",
   "execution_count": 64,
   "metadata": {},
   "outputs": [
    {
     "name": "stderr",
     "output_type": "stream",
     "text": [
      "/anaconda3/lib/python3.6/site-packages/ipykernel_launcher.py:2: RuntimeWarning: overflow encountered in exp\n",
      "  \n"
     ]
    },
    {
     "data": {
      "text/plain": [
       "array([  3.53432784e+02,  -2.42331271e-02,   2.76420485e+03])"
      ]
     },
     "execution_count": 64,
     "metadata": {},
     "output_type": "execute_result"
    }
   ],
   "source": [
    "popt, pcov=curve_fit(func, x, y)\n",
    "popt \n"
   ]
  },
  {
   "cell_type": "code",
   "execution_count": 65,
   "metadata": {},
   "outputs": [
    {
     "data": {
      "text/plain": [
       "Text(0,0.5,'CFU ((cfu/100ml))')"
      ]
     },
     "execution_count": 65,
     "metadata": {},
     "output_type": "execute_result"
    },
    {
     "data": {
      "image/png": "[encoded data removed]",
      "text/plain": [
       "<matplotlib.figure.Figure at 0x1a230e4a58>"
      ]
     },
     "metadata": {},
     "output_type": "display_data"
    }
   ],
   "source": [
    "plt.plot(x,func(x, *popt),'--')\n",
    "\n",
    "plt.title(\"Acreage v. Fecal Coliform Fitted exponential curve\")#add titles and legend\n",
    "plt.legend(frameon = False)\n",
    "plt.xlabel(\"Acreage\")\n",
    "plt.ylabel(\"CFU ((cfu/100ml))\")\n"
   ]
  },
  {
   "cell_type": "code",
   "execution_count": 66,
   "metadata": {
    "collapsed": true
   },
   "outputs": [],
   "source": [
    "def C(x):\n",
    "    return 353.432784*np.exp(.0242331271*x)+276.420485"
   ]
  },
  {
   "cell_type": "code",
   "execution_count": 67,
   "metadata": {},
   "outputs": [
    {
     "data": {
      "text/plain": [
       "[<matplotlib.lines.Line2D at 0x1a235fe278>]"
      ]
     },
     "execution_count": 67,
     "metadata": {},
     "output_type": "execute_result"
    },
    {
     "data": {
      "image/png": "[encoded data removed]",
      "text/plain": [
       "<matplotlib.figure.Figure at 0x1a23165160>"
      ]
     },
     "metadata": {},
     "output_type": "display_data"
    }
   ],
   "source": [
    "plt.plot(x,C(x))"
   ]
  },
  {
   "cell_type": "markdown",
   "metadata": {},
   "source": [
    "Using this model what would the projected fecal coliform be for 150 and 200 acres?"
   ]
  },
  {
   "cell_type": "code",
   "execution_count": 68,
   "metadata": {},
   "outputs": [
    {
     "data": {
      "text/plain": [
       "13671.763481850245"
      ]
     },
     "execution_count": 68,
     "metadata": {},
     "output_type": "execute_result"
    }
   ],
   "source": [
    "C(150)"
   ]
  },
  {
   "cell_type": "code",
   "execution_count": 69,
   "metadata": {},
   "outputs": [
    {
     "data": {
      "text/plain": [
       "45271.964546109957"
      ]
     },
     "execution_count": 69,
     "metadata": {},
     "output_type": "execute_result"
    }
   ],
   "source": [
    "C(200)"
   ]
  },
  {
   "cell_type": "markdown",
   "metadata": {},
   "source": [
    "** Drug Absorption Example** The concentration of a certain drug in an organ at any time $t$ (where $t$ is in seconds is given by $$d(t)=0.08+0.12(1-e^{-0.02t})$$\n",
    "where $d(t)$ is meausred in grams per cubic centimeter (g/m^3). \n",
    "\n",
    "    - Find the inital concentration of the drug in the organ\n",
    "    - What is the concentration of the drug after 20 seconds?\n",
    "    - Plot the concentration of the drug in the organ\n",
    "    - What will the concentration of the drug be in the long run?\n",
    "\n"
   ]
  },
  {
   "cell_type": "code",
   "execution_count": 70,
   "metadata": {
    "collapsed": true
   },
   "outputs": [],
   "source": [
    "def d(t):\n",
    "    return 0.08+0.12*(1-np.exp(-0.02*t))\n"
   ]
  },
  {
   "cell_type": "code",
   "execution_count": 71,
   "metadata": {},
   "outputs": [
    {
     "data": {
      "text/plain": [
       "0.080000000000000002"
      ]
     },
     "execution_count": 71,
     "metadata": {},
     "output_type": "execute_result"
    }
   ],
   "source": [
    "d(0)\n"
   ]
  },
  {
   "cell_type": "code",
   "execution_count": 72,
   "metadata": {},
   "outputs": [
    {
     "data": {
      "text/plain": [
       "0.11956159447572329"
      ]
     },
     "execution_count": 72,
     "metadata": {},
     "output_type": "execute_result"
    }
   ],
   "source": [
    "d(20)"
   ]
  },
  {
   "cell_type": "code",
   "execution_count": 73,
   "metadata": {
    "collapsed": true
   },
   "outputs": [],
   "source": [
    "\n",
    "t=np.arange(0,1000,1)\n"
   ]
  },
  {
   "cell_type": "code",
   "execution_count": 74,
   "metadata": {},
   "outputs": [
    {
     "data": {
      "image/png": "[encoded data removed]",
      "text/plain": [
       "<matplotlib.figure.Figure at 0x1a235da048>"
      ]
     },
     "metadata": {},
     "output_type": "display_data"
    }
   ],
   "source": [
    "plt.plot(t,d(t))\n",
    "plt.show()"
   ]
  },
  {
   "cell_type": "markdown",
   "metadata": {},
   "source": [
    "# For You To Do: \n",
    "Also I have now put these questions each in their own cell, so you can add your responses in cells directly below the question. Feel free to add more cells under each, I just put a few in to get you started. \n",
    "\n",
    "# 1. Cost, Revenue, and Profit\n",
    "A manufacturer has a cost of \\$8 per unit produced and a monthly fixed cost of \\$40,000.  The product sells for \\$12 per unit. \n",
    "\n",
    "Write the cost, revenue, and profit functions. \n",
    "\n",
    "Compute the profit (or loss) at production levels of 8000 and 12000\n",
    "\n",
    "Find the break even point. \n",
    "\n",
    "\n",
    "Plot the Cost and Revenue function. \n"
   ]
  },
  {
   "cell_type": "code",
   "execution_count": null,
   "metadata": {
    "collapsed": true
   },
   "outputs": [],
   "source": []
  },
  {
   "cell_type": "code",
   "execution_count": null,
   "metadata": {
    "collapsed": true
   },
   "outputs": [],
   "source": []
  },
  {
   "cell_type": "code",
   "execution_count": null,
   "metadata": {
    "collapsed": true
   },
   "outputs": [],
   "source": []
  },
  {
   "cell_type": "code",
   "execution_count": null,
   "metadata": {
    "collapsed": true
   },
   "outputs": [],
   "source": []
  },
  {
   "cell_type": "markdown",
   "metadata": {},
   "source": [
    "# 2. Equation of a Line \n",
    "\n",
    "    2a. Find the equation of a line passing through points (2,4) and (3,7).  Then plot this line.\n",
    "    \n",
    "    2b. Find the equation of a line that passes through the point (-2,2) and is perpendicular to the line \n",
    "                3x+4y-22=0\n",
    "\n"
   ]
  },
  {
   "cell_type": "code",
   "execution_count": null,
   "metadata": {
    "collapsed": true
   },
   "outputs": [],
   "source": []
  },
  {
   "cell_type": "markdown",
   "metadata": {},
   "source": [
    "# 3. Stocks\n",
    "One of the recommeded stocks to buy for 2019 is Alibaba (BABA).  It is best-known for running China’s most popular online marketplaces- kind of like the Chinese version of Amazon. However, like America’s Amazon.com, it has expanded into additional busineses, such as electronic payments, cloud computing, and media.\n",
    "\n",
    "(Reminder... I am not giving stock advise I am simply getting you to do some math. Ask someone that knows more about the stock market if you want to try to make some money.  I am simply realy good a spending money on somewhat useless things :)   )\n",
    "\n",
    "Use the example from above to determine the slope of the support line and the resistance lines and decide if you think it is a good buy based on the info we have from 2019.  (Side note:  I've already called in the data and the plt for you you are just looking looking at slope between highs and slope between lows).  \n",
    "\n"
   ]
  },
  {
   "cell_type": "code",
   "execution_count": 75,
   "metadata": {},
   "outputs": [
    {
     "name": "stdout",
     "output_type": "stream",
     "text": [
      "                  High         Low        Open       Close    Volume  \\\n",
      "Date                                                                   \n",
      "2019-01-02  137.748993  133.029999  134.130005  136.699997  16708400   \n",
      "2019-01-03  134.869995  129.830002  134.270004  130.600006  19531300   \n",
      "2019-01-04  141.080002  133.660004  134.259995  139.750000  22845400   \n",
      "2019-01-07  144.080002  139.009995  140.550003  143.100006  17239000   \n",
      "2019-01-08  147.550003  142.059998  145.000000  146.789993  16487600   \n",
      "\n",
      "             Adj Close  \n",
      "Date                    \n",
      "2019-01-02  136.699997  \n",
      "2019-01-03  130.600006  \n",
      "2019-01-04  139.750000  \n",
      "2019-01-07  143.100006  \n",
      "2019-01-08  146.789993  \n"
     ]
    },
    {
     "data": {
      "image/png": "[encoded data removed]",
      "text/plain": [
       "<matplotlib.figure.Figure at 0x1822d18f28>"
      ]
     },
     "metadata": {},
     "output_type": "display_data"
    }
   ],
   "source": [
    "style.use('ggplot') #just a style of plot there are others\n",
    "\n",
    "start = dt.datetime(2019, 1, 1)  #tells where to start looking at the data, year, month, day\n",
    "end = dt.datetime.now() #stops looking now \n",
    "df = web.DataReader('BABA', 'yahoo', start, end)\n",
    "\n",
    "print(df.head())\n",
    "df['Adj Close'].plot()\n",
    "plt.show()\n"
   ]
  },
  {
   "cell_type": "code",
   "execution_count": null,
   "metadata": {
    "collapsed": true
   },
   "outputs": [],
   "source": []
  },
  {
   "cell_type": "markdown",
   "metadata": {},
   "source": [
    "# 4. Supply and Demand\n",
    "\n",
    "The supply and demand equations are as follows (note: you need to determine which is supply and which is demand).  \n",
    "\n",
    "$p=60-2x^2$ and $p=x^2+9x+30$\n",
    "\n",
    "where $x$ represents the quantity demanded in units of a thousand and $p$ is the unit price in dollars.  \n",
    "\n",
    "Find the equilibrium quantity and price.  Plot these on the same set of axes, with axes labeled, curves labeled, and the equiliprium point labeled. \n",
    "\n"
   ]
  },
  {
   "cell_type": "code",
   "execution_count": null,
   "metadata": {
    "collapsed": true
   },
   "outputs": [],
   "source": []
  },
  {
   "cell_type": "markdown",
   "metadata": {},
   "source": [
    "# 5. Exponential Functions \n",
    "To solve exponential equations by hand we will need to use logarithms. We will learn a bit more about those soon.  For now let's revist the drug absorption problem.  Instead of wanting to know what the absorption will be at some time $t$, let's find out when the drug absorption reaches a certain level. \n",
    "\n",
    "In this next cell, I help you determine when the concentration would reach $0.10g/cm^3$.  Use this to then find when the drug concentration would reach 0.16 g/cm^3 and 0.18 g/cm^3.  \n",
    "\n",
    "Then using your guess for what the concentration is in the long run (from the exponential models section problem about this problem previously) try to determine if it ever really reaches that number you thought. Then determine when does it get within 0.01 g/cm^3 of that number.  \n"
   ]
  },
  {
   "cell_type": "code",
   "execution_count": 76,
   "metadata": {},
   "outputs": [
    {
     "data": {
      "text/plain": [
       "[9.11607783969773]"
      ]
     },
     "execution_count": 76,
     "metadata": {},
     "output_type": "execute_result"
    }
   ],
   "source": [
    "#\n",
    "t = sy.Symbol('t')\n",
    "eq=sy.Eq(0.08+0.12*(1-sy.exp(-0.02*t)),0.10)\n",
    "sy.solve(eq)\n",
    "\n"
   ]
  },
  {
   "cell_type": "code",
   "execution_count": null,
   "metadata": {
    "collapsed": true
   },
   "outputs": [],
   "source": []
  },
  {
   "cell_type": "markdown",
   "metadata": {},
   "source": [
    "# 6. Mathematical Models\n",
    "\n",
    "The estimated number of internet usesr in China (in millions) from 2005 to 2010 is given in the following table. Let \n",
    "\n",
    "|Year| 2005|2006|2007|2008|2009|2010|\n",
    "|---------------|----|---|----|----|----|--|\n",
    "|Number of users in millions    | 116.1  | 141.9 | 169.0  | 209.0  | 258.1  | 314.8|\n",
    "\n",
    "\n",
    "First plot the years versus number of internet users.  Based on the shape on this data decide on a type of function (that we worked on today, linear, quadratic, or exponential) to fit to the data to determine a model. \n",
    "\n",
    "After determining this, use your model to predict the number (in millions) of internet users in China today. \n",
    "\n",
    "After doing this see if your model prediction is close to the actual number today.  \n"
   ]
  },
  {
   "cell_type": "code",
   "execution_count": null,
   "metadata": {
    "collapsed": true
   },
   "outputs": [],
   "source": []
  },
  {
   "cell_type": "markdown",
   "metadata": {},
   "source": [
    "# Think about what you learned today and write about it!\n",
    "Write a short paragraph about what you learned in this notebook"
   ]
  },
  {
   "cell_type": "markdown",
   "metadata": {},
   "source": [
    " "
   ]
  },
  {
   "cell_type": "markdown",
   "metadata": {},
   "source": [
    "## Reminder of converting to a pdf\n",
    "\n",
    "This one should work because I have eliminated any issues with pictures, which was causing the error on the last one. \n",
    "\n",
    "Open Terminal (on a mac - you could search Terminal) or open Command Prompt Window (on a windows computer - Click the \"Start >> Program Files >> Accessories >> Command Prompt\"  or \"Start\" and then in the search bar type cmd) \n",
    "\n",
    "Once you are here type *cd* then drag the folder in which you have your jupyter notebook stored to this line.  This should input the commands to get you into the correct directory. Then press enter. Now you should be ready to enter the command that will help you convert the file to a pdf. \n",
    "\n",
    "Type: ** jupyter nbconvert --to pdf nameofyourfile.ipynb\" ** Then press enter.  This should convert it to a pdf for you.  The formatting might be a little off and if your pictures are not in the same folder they won't import - if my pictures don't come through on your notebook pdf right now I am not concerned. We will get better with this as we go. \n",
    "\n",
    "**Note: where I have name of your file written you actually need to write the name of your file.  Also make sure the name has no space.**\n",
    "### Please name your file following this set up:  lastname_firstname_lab_two.ipynb\n",
    "\n",
    "The pdf you just created should appear in the folder where you have your jupyter notebooks if you did it correctly. \n",
    "\n",
    "I have uploaded a video to Blackboard of me doing it on my mac to help you try.  **Please come and see me if you are having trouble.** It is incredibly easy to mess up! "
   ]
  },
  {
   "cell_type": "code",
   "execution_count": null,
   "metadata": {
    "collapsed": true
   },
   "outputs": [],
   "source": []
  }
 ],
 "metadata": {
  "kernelspec": {
   "display_name": "Python 3",
   "language": "python",
   "name": "python3"
  },
  "language_info": {
   "codemirror_mode": {
    "name": "ipython",
    "version": 3
   },
   "file_extension": ".py",
   "mimetype": "text/x-python",
   "name": "python",
   "nbconvert_exporter": "python",
   "pygments_lexer": "ipython3",
   "version": "3.6.7"
  }
 },
 "nbformat": 4,
 "nbformat_minor": 2
}
